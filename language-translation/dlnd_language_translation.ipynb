{
 "cells": [
  {
   "cell_type": "markdown",
   "metadata": {
    "collapsed": true,
    "deletable": true,
    "editable": true
   },
   "source": [
    "# Language Translation\n",
    "In this project, you’re going to take a peek into the realm of neural network machine translation.  You’ll be training a sequence to sequence model on a dataset of English and French sentences that can translate new sentences from English to French.\n",
    "## Get the Data\n",
    "Since translating the whole language of English to French will take lots of time to train, we have provided you with a small portion of the English corpus."
   ]
  },
  {
   "cell_type": "code",
   "execution_count": 1,
   "metadata": {
    "collapsed": true,
    "deletable": true,
    "editable": true
   },
   "outputs": [],
   "source": [
    "\"\"\"\n",
    "DON'T MODIFY ANYTHING IN THIS CELL\n",
    "\"\"\"\n",
    "import helper\n",
    "import problem_unittests as tests\n",
    "\n",
    "source_path = 'data/small_vocab_en'\n",
    "target_path = 'data/small_vocab_fr'\n",
    "source_text = helper.load_data(source_path)\n",
    "target_text = helper.load_data(target_path)"
   ]
  },
  {
   "cell_type": "markdown",
   "metadata": {
    "deletable": true,
    "editable": true
   },
   "source": [
    "## Explore the Data\n",
    "Play around with view_sentence_range to view different parts of the data."
   ]
  },
  {
   "cell_type": "code",
   "execution_count": 2,
   "metadata": {
    "collapsed": false,
    "deletable": true,
    "editable": true
   },
   "outputs": [
    {
     "name": "stdout",
     "output_type": "stream",
     "text": [
      "Dataset Stats\n",
      "Roughly the number of unique words: 227\n",
      "Number of sentences: 137861\n",
      "Average number of words in a sentence: 13.225277634719028\n",
      "\n",
      "English sentences 0 to 10:\n",
      "new jersey is sometimes quiet during autumn , and it is snowy in april .\n",
      "the united states is usually chilly during july , and it is usually freezing in november .\n",
      "california is usually quiet during march , and it is usually hot in june .\n",
      "the united states is sometimes mild during june , and it is cold in september .\n",
      "your least liked fruit is the grape , but my least liked is the apple .\n",
      "his favorite fruit is the orange , but my favorite is the grape .\n",
      "paris is relaxing during december , but it is usually chilly in july .\n",
      "new jersey is busy during spring , and it is never hot in march .\n",
      "our least liked fruit is the lemon , but my least liked is the grape .\n",
      "the united states is sometimes busy during january , and it is sometimes warm in november .\n",
      "\n",
      "French sentences 0 to 10:\n",
      "new jersey est parfois calme pendant l' automne , et il est neigeux en avril .\n",
      "les états-unis est généralement froid en juillet , et il gèle habituellement en novembre .\n",
      "california est généralement calme en mars , et il est généralement chaud en juin .\n",
      "les états-unis est parfois légère en juin , et il fait froid en septembre .\n",
      "votre moins aimé fruit est le raisin , mais mon moins aimé est la pomme .\n",
      "son fruit préféré est l'orange , mais mon préféré est le raisin .\n",
      "paris est relaxant en décembre , mais il est généralement froid en juillet .\n",
      "new jersey est occupé au printemps , et il est jamais chaude en mars .\n",
      "notre fruit est moins aimé le citron , mais mon moins aimé est le raisin .\n",
      "les états-unis est parfois occupé en janvier , et il est parfois chaud en novembre .\n"
     ]
    }
   ],
   "source": [
    "view_sentence_range = (0, 10)\n",
    "\n",
    "\"\"\"\n",
    "DON'T MODIFY ANYTHING IN THIS CELL\n",
    "\"\"\"\n",
    "import numpy as np\n",
    "\n",
    "print('Dataset Stats')\n",
    "print('Roughly the number of unique words: {}'.format(len({word: None for word in source_text.split()})))\n",
    "\n",
    "sentences = source_text.split('\\n')\n",
    "word_counts = [len(sentence.split()) for sentence in sentences]\n",
    "print('Number of sentences: {}'.format(len(sentences)))\n",
    "print('Average number of words in a sentence: {}'.format(np.average(word_counts)))\n",
    "\n",
    "print()\n",
    "print('English sentences {} to {}:'.format(*view_sentence_range))\n",
    "print('\\n'.join(source_text.split('\\n')[view_sentence_range[0]:view_sentence_range[1]]))\n",
    "print()\n",
    "print('French sentences {} to {}:'.format(*view_sentence_range))\n",
    "print('\\n'.join(target_text.split('\\n')[view_sentence_range[0]:view_sentence_range[1]]))"
   ]
  },
  {
   "cell_type": "markdown",
   "metadata": {
    "deletable": true,
    "editable": true
   },
   "source": [
    "## Implement Preprocessing Function\n",
    "### Text to Word Ids\n",
    "As you did with other RNNs, you must turn the text into a number so the computer can understand it. In the function `text_to_ids()`, you'll turn `source_text` and `target_text` from words to ids.  However, you need to add the `<EOS>` word id at the end of `target_text`.  This will help the neural network predict when the sentence should end.\n",
    "\n",
    "You can get the `<EOS>` word id by doing:\n",
    "```python\n",
    "target_vocab_to_int['<EOS>']\n",
    "```\n",
    "You can get other word ids using `source_vocab_to_int` and `target_vocab_to_int`."
   ]
  },
  {
   "cell_type": "code",
   "execution_count": 3,
   "metadata": {
    "collapsed": false,
    "deletable": true,
    "editable": true
   },
   "outputs": [
    {
     "name": "stdout",
     "output_type": "stream",
     "text": [
      "Tests Passed\n"
     ]
    }
   ],
   "source": [
    "def text_to_ids(source_text, target_text, source_vocab_to_int, target_vocab_to_int):\n",
    "    \"\"\"\n",
    "    Convert source and target text to proper word ids\n",
    "    :param source_text: String that contains all the source text.\n",
    "    :param target_text: String that contains all the target text.\n",
    "    :param source_vocab_to_int: Dictionary to go from the source words to an id\n",
    "    :param target_vocab_to_int: Dictionary to go from the target words to an id\n",
    "    :return: A tuple of lists (source_id_text, target_id_text)\n",
    "    \"\"\"\n",
    "    # TODO: Implement Function\n",
    "    \n",
    "    source_ids = [[source_vocab_to_int[word] for word in line.split()] for line in source_text.split('\\n')]\n",
    "    target_ids = [[target_vocab_to_int[word] for word in (line + ' <EOS>').split()] for line in target_text.split('\\n')]\n",
    "\n",
    "    #print('source text: \\n', source_words[:50], '\\n\\n')\n",
    "    #print('target text: \\n', target_words[:50], '\\n\\n')\n",
    "    \n",
    "    return source_ids, target_ids\n",
    "\"\"\"\n",
    "DON'T MODIFY ANYTHING IN THIS CELL THAT IS BELOW THIS LINE\n",
    "\"\"\"\n",
    "tests.test_text_to_ids(text_to_ids)"
   ]
  },
  {
   "cell_type": "markdown",
   "metadata": {
    "deletable": true,
    "editable": true
   },
   "source": [
    "### Preprocess all the data and save it\n",
    "Running the code cell below will preprocess all the data and save it to file."
   ]
  },
  {
   "cell_type": "code",
   "execution_count": 4,
   "metadata": {
    "collapsed": true,
    "deletable": true,
    "editable": true
   },
   "outputs": [],
   "source": [
    "\"\"\"\n",
    "DON'T MODIFY ANYTHING IN THIS CELL\n",
    "\"\"\"\n",
    "helper.preprocess_and_save_data(source_path, target_path, text_to_ids)"
   ]
  },
  {
   "cell_type": "markdown",
   "metadata": {
    "deletable": true,
    "editable": true
   },
   "source": [
    "# Check Point\n",
    "This is your first checkpoint. If you ever decide to come back to this notebook or have to restart the notebook, you can start from here. The preprocessed data has been saved to disk."
   ]
  },
  {
   "cell_type": "code",
   "execution_count": 5,
   "metadata": {
    "collapsed": true,
    "deletable": true,
    "editable": true
   },
   "outputs": [],
   "source": [
    "\"\"\"\n",
    "DON'T MODIFY ANYTHING IN THIS CELL\n",
    "\"\"\"\n",
    "import numpy as np\n",
    "import helper\n",
    "import problem_unittests as tests\n",
    "\n",
    "(source_int_text, target_int_text), (source_vocab_to_int, target_vocab_to_int), _ = helper.load_preprocess()"
   ]
  },
  {
   "cell_type": "markdown",
   "metadata": {
    "deletable": true,
    "editable": true
   },
   "source": [
    "### Check the Version of TensorFlow and Access to GPU\n",
    "This will check to make sure you have the correct version of TensorFlow and access to a GPU"
   ]
  },
  {
   "cell_type": "code",
   "execution_count": 6,
   "metadata": {
    "collapsed": false,
    "deletable": true,
    "editable": true
   },
   "outputs": [
    {
     "name": "stdout",
     "output_type": "stream",
     "text": [
      "TensorFlow Version: 1.2.1\n",
      "Default GPU Device: /gpu:0\n"
     ]
    }
   ],
   "source": [
    "\"\"\"\n",
    "DON'T MODIFY ANYTHING IN THIS CELL\n",
    "\"\"\"\n",
    "from distutils.version import LooseVersion\n",
    "import warnings\n",
    "import tensorflow as tf\n",
    "from tensorflow.python.layers.core import Dense\n",
    "\n",
    "# Check TensorFlow Version\n",
    "assert LooseVersion(tf.__version__) >= LooseVersion('1.1'), 'Please use TensorFlow version 1.1 or newer'\n",
    "print('TensorFlow Version: {}'.format(tf.__version__))\n",
    "\n",
    "# Check for a GPU\n",
    "if not tf.test.gpu_device_name():\n",
    "    warnings.warn('No GPU found. Please use a GPU to train your neural network.')\n",
    "else:\n",
    "    print('Default GPU Device: {}'.format(tf.test.gpu_device_name()))"
   ]
  },
  {
   "cell_type": "markdown",
   "metadata": {
    "deletable": true,
    "editable": true
   },
   "source": [
    "## Build the Neural Network\n",
    "You'll build the components necessary to build a Sequence-to-Sequence model by implementing the following functions below:\n",
    "- `model_inputs`\n",
    "- `process_decoder_input`\n",
    "- `encoding_layer`\n",
    "- `decoding_layer_train`\n",
    "- `decoding_layer_infer`\n",
    "- `decoding_layer`\n",
    "- `seq2seq_model`\n",
    "\n",
    "### Input\n",
    "Implement the `model_inputs()` function to create TF Placeholders for the Neural Network. It should create the following placeholders:\n",
    "\n",
    "- Input text placeholder named \"input\" using the TF Placeholder name parameter with rank 2.\n",
    "- Targets placeholder with rank 2.\n",
    "- Learning rate placeholder with rank 0.\n",
    "- Keep probability placeholder named \"keep_prob\" using the TF Placeholder name parameter with rank 0.\n",
    "- Target sequence length placeholder named \"target_sequence_length\" with rank 1\n",
    "- Max target sequence length tensor named \"max_target_len\" getting its value from applying tf.reduce_max on the target_sequence_length placeholder. Rank 0.\n",
    "- Source sequence length placeholder named \"source_sequence_length\" with rank 1\n",
    "\n",
    "Return the placeholders in the following the tuple (input, targets, learning rate, keep probability, target sequence length, max target sequence length, source sequence length)"
   ]
  },
  {
   "cell_type": "code",
   "execution_count": 10,
   "metadata": {
    "collapsed": false,
    "deletable": true,
    "editable": true
   },
   "outputs": [
    {
     "name": "stdout",
     "output_type": "stream",
     "text": [
      "ERROR:tensorflow:==================================\n",
      "Object was never used (type <class 'tensorflow.python.framework.ops.Operation'>):\n",
      "<tf.Operation 'assert_rank_2/Assert/Assert' type=Assert>\n",
      "If you want to mark it as used call its \"mark_used()\" method.\n",
      "It was originally created here:\n",
      "['File \"/home/nick/anaconda3/envs/tensorflow/lib/python3.6/runpy.py\", line 193, in _run_module_as_main\\n    \"__main__\", mod_spec)', 'File \"/home/nick/anaconda3/envs/tensorflow/lib/python3.6/runpy.py\", line 85, in _run_code\\n    exec(code, run_globals)', 'File \"/home/nick/anaconda3/envs/tensorflow/lib/python3.6/site-packages/ipykernel/__main__.py\", line 3, in <module>\\n    app.launch_new_instance()', 'File \"/home/nick/anaconda3/envs/tensorflow/lib/python3.6/site-packages/traitlets/config/application.py\", line 658, in launch_instance\\n    app.start()', 'File \"/home/nick/anaconda3/envs/tensorflow/lib/python3.6/site-packages/ipykernel/kernelapp.py\", line 474, in start\\n    ioloop.IOLoop.instance().start()', 'File \"/home/nick/anaconda3/envs/tensorflow/lib/python3.6/site-packages/zmq/eventloop/ioloop.py\", line 177, in start\\n    super(ZMQIOLoop, self).start()', 'File \"/home/nick/anaconda3/envs/tensorflow/lib/python3.6/site-packages/tornado/ioloop.py\", line 888, in start\\n    handler_func(fd_obj, events)', 'File \"/home/nick/anaconda3/envs/tensorflow/lib/python3.6/site-packages/tornado/stack_context.py\", line 277, in null_wrapper\\n    return fn(*args, **kwargs)', 'File \"/home/nick/anaconda3/envs/tensorflow/lib/python3.6/site-packages/zmq/eventloop/zmqstream.py\", line 440, in _handle_events\\n    self._handle_recv()', 'File \"/home/nick/anaconda3/envs/tensorflow/lib/python3.6/site-packages/zmq/eventloop/zmqstream.py\", line 472, in _handle_recv\\n    self._run_callback(callback, msg)', 'File \"/home/nick/anaconda3/envs/tensorflow/lib/python3.6/site-packages/zmq/eventloop/zmqstream.py\", line 414, in _run_callback\\n    callback(*args, **kwargs)', 'File \"/home/nick/anaconda3/envs/tensorflow/lib/python3.6/site-packages/tornado/stack_context.py\", line 277, in null_wrapper\\n    return fn(*args, **kwargs)', 'File \"/home/nick/anaconda3/envs/tensorflow/lib/python3.6/site-packages/ipykernel/kernelbase.py\", line 276, in dispatcher\\n    return self.dispatch_shell(stream, msg)', 'File \"/home/nick/anaconda3/envs/tensorflow/lib/python3.6/site-packages/ipykernel/kernelbase.py\", line 228, in dispatch_shell\\n    handler(stream, idents, msg)', 'File \"/home/nick/anaconda3/envs/tensorflow/lib/python3.6/site-packages/ipykernel/kernelbase.py\", line 390, in execute_request\\n    user_expressions, allow_stdin)', 'File \"/home/nick/anaconda3/envs/tensorflow/lib/python3.6/site-packages/ipykernel/ipkernel.py\", line 196, in do_execute\\n    res = shell.run_cell(code, store_history=store_history, silent=silent)', 'File \"/home/nick/anaconda3/envs/tensorflow/lib/python3.6/site-packages/ipykernel/zmqshell.py\", line 501, in run_cell\\n    return super(ZMQInteractiveShell, self).run_cell(*args, **kwargs)', 'File \"/home/nick/anaconda3/envs/tensorflow/lib/python3.6/site-packages/IPython/core/interactiveshell.py\", line 2717, in run_cell\\n    interactivity=interactivity, compiler=compiler, result=result)', 'File \"/home/nick/anaconda3/envs/tensorflow/lib/python3.6/site-packages/IPython/core/interactiveshell.py\", line 2827, in run_ast_nodes\\n    if self.run_code(code, result):', 'File \"/home/nick/anaconda3/envs/tensorflow/lib/python3.6/site-packages/IPython/core/interactiveshell.py\", line 2881, in run_code\\n    exec(code_obj, self.user_global_ns, self.user_ns)', 'File \"<ipython-input-10-2cb69c5b0c87>\", line 22, in <module>\\n    tests.test_model_inputs(model_inputs)', 'File \"/home/nick/projects/ND101-Deep-Learning/language-translation/problem_unittests.py\", line 106, in test_model_inputs\\n    assert tf.assert_rank(lr, 0, message=\\'Learning Rate has wrong rank\\')', 'File \"/home/nick/anaconda3/envs/tensorflow/lib/python3.6/site-packages/tensorflow/python/ops/check_ops.py\", line 617, in assert_rank\\n    dynamic_condition, data, summarize)', 'File \"/home/nick/anaconda3/envs/tensorflow/lib/python3.6/site-packages/tensorflow/python/ops/check_ops.py\", line 571, in _assert_rank_condition\\n    return control_flow_ops.Assert(condition, data, summarize=summarize)', 'File \"/home/nick/anaconda3/envs/tensorflow/lib/python3.6/site-packages/tensorflow/python/util/tf_should_use.py\", line 170, in wrapped\\n    return _add_should_use_warning(fn(*args, **kwargs))', 'File \"/home/nick/anaconda3/envs/tensorflow/lib/python3.6/site-packages/tensorflow/python/util/tf_should_use.py\", line 139, in _add_should_use_warning\\n    wrapped = TFShouldUseWarningWrapper(x)', 'File \"/home/nick/anaconda3/envs/tensorflow/lib/python3.6/site-packages/tensorflow/python/util/tf_should_use.py\", line 96, in __init__\\n    stack = [s.strip() for s in traceback.format_stack()]']\n",
      "==================================\n",
      "ERROR:tensorflow:==================================\n",
      "Object was never used (type <class 'tensorflow.python.framework.ops.Operation'>):\n",
      "<tf.Operation 'assert_rank_3/Assert/Assert' type=Assert>\n",
      "If you want to mark it as used call its \"mark_used()\" method.\n",
      "It was originally created here:\n",
      "['File \"/home/nick/anaconda3/envs/tensorflow/lib/python3.6/runpy.py\", line 193, in _run_module_as_main\\n    \"__main__\", mod_spec)', 'File \"/home/nick/anaconda3/envs/tensorflow/lib/python3.6/runpy.py\", line 85, in _run_code\\n    exec(code, run_globals)', 'File \"/home/nick/anaconda3/envs/tensorflow/lib/python3.6/site-packages/ipykernel/__main__.py\", line 3, in <module>\\n    app.launch_new_instance()', 'File \"/home/nick/anaconda3/envs/tensorflow/lib/python3.6/site-packages/traitlets/config/application.py\", line 658, in launch_instance\\n    app.start()', 'File \"/home/nick/anaconda3/envs/tensorflow/lib/python3.6/site-packages/ipykernel/kernelapp.py\", line 474, in start\\n    ioloop.IOLoop.instance().start()', 'File \"/home/nick/anaconda3/envs/tensorflow/lib/python3.6/site-packages/zmq/eventloop/ioloop.py\", line 177, in start\\n    super(ZMQIOLoop, self).start()', 'File \"/home/nick/anaconda3/envs/tensorflow/lib/python3.6/site-packages/tornado/ioloop.py\", line 888, in start\\n    handler_func(fd_obj, events)', 'File \"/home/nick/anaconda3/envs/tensorflow/lib/python3.6/site-packages/tornado/stack_context.py\", line 277, in null_wrapper\\n    return fn(*args, **kwargs)', 'File \"/home/nick/anaconda3/envs/tensorflow/lib/python3.6/site-packages/zmq/eventloop/zmqstream.py\", line 440, in _handle_events\\n    self._handle_recv()', 'File \"/home/nick/anaconda3/envs/tensorflow/lib/python3.6/site-packages/zmq/eventloop/zmqstream.py\", line 472, in _handle_recv\\n    self._run_callback(callback, msg)', 'File \"/home/nick/anaconda3/envs/tensorflow/lib/python3.6/site-packages/zmq/eventloop/zmqstream.py\", line 414, in _run_callback\\n    callback(*args, **kwargs)', 'File \"/home/nick/anaconda3/envs/tensorflow/lib/python3.6/site-packages/tornado/stack_context.py\", line 277, in null_wrapper\\n    return fn(*args, **kwargs)', 'File \"/home/nick/anaconda3/envs/tensorflow/lib/python3.6/site-packages/ipykernel/kernelbase.py\", line 276, in dispatcher\\n    return self.dispatch_shell(stream, msg)', 'File \"/home/nick/anaconda3/envs/tensorflow/lib/python3.6/site-packages/ipykernel/kernelbase.py\", line 228, in dispatch_shell\\n    handler(stream, idents, msg)', 'File \"/home/nick/anaconda3/envs/tensorflow/lib/python3.6/site-packages/ipykernel/kernelbase.py\", line 390, in execute_request\\n    user_expressions, allow_stdin)', 'File \"/home/nick/anaconda3/envs/tensorflow/lib/python3.6/site-packages/ipykernel/ipkernel.py\", line 196, in do_execute\\n    res = shell.run_cell(code, store_history=store_history, silent=silent)', 'File \"/home/nick/anaconda3/envs/tensorflow/lib/python3.6/site-packages/ipykernel/zmqshell.py\", line 501, in run_cell\\n    return super(ZMQInteractiveShell, self).run_cell(*args, **kwargs)', 'File \"/home/nick/anaconda3/envs/tensorflow/lib/python3.6/site-packages/IPython/core/interactiveshell.py\", line 2717, in run_cell\\n    interactivity=interactivity, compiler=compiler, result=result)', 'File \"/home/nick/anaconda3/envs/tensorflow/lib/python3.6/site-packages/IPython/core/interactiveshell.py\", line 2827, in run_ast_nodes\\n    if self.run_code(code, result):', 'File \"/home/nick/anaconda3/envs/tensorflow/lib/python3.6/site-packages/IPython/core/interactiveshell.py\", line 2881, in run_code\\n    exec(code_obj, self.user_global_ns, self.user_ns)', 'File \"<ipython-input-10-2cb69c5b0c87>\", line 22, in <module>\\n    tests.test_model_inputs(model_inputs)', 'File \"/home/nick/projects/ND101-Deep-Learning/language-translation/problem_unittests.py\", line 107, in test_model_inputs\\n    assert tf.assert_rank(keep_prob, 0, message=\\'Keep Probability has wrong rank\\')', 'File \"/home/nick/anaconda3/envs/tensorflow/lib/python3.6/site-packages/tensorflow/python/ops/check_ops.py\", line 617, in assert_rank\\n    dynamic_condition, data, summarize)', 'File \"/home/nick/anaconda3/envs/tensorflow/lib/python3.6/site-packages/tensorflow/python/ops/check_ops.py\", line 571, in _assert_rank_condition\\n    return control_flow_ops.Assert(condition, data, summarize=summarize)', 'File \"/home/nick/anaconda3/envs/tensorflow/lib/python3.6/site-packages/tensorflow/python/util/tf_should_use.py\", line 170, in wrapped\\n    return _add_should_use_warning(fn(*args, **kwargs))', 'File \"/home/nick/anaconda3/envs/tensorflow/lib/python3.6/site-packages/tensorflow/python/util/tf_should_use.py\", line 139, in _add_should_use_warning\\n    wrapped = TFShouldUseWarningWrapper(x)', 'File \"/home/nick/anaconda3/envs/tensorflow/lib/python3.6/site-packages/tensorflow/python/util/tf_should_use.py\", line 96, in __init__\\n    stack = [s.strip() for s in traceback.format_stack()]']\n",
      "==================================\n",
      "Tests Passed\n"
     ]
    }
   ],
   "source": [
    "def model_inputs():\n",
    "    \"\"\"\n",
    "    Create TF Placeholders for input, targets, learning rate, and lengths of source and target sequences.\n",
    "    :return: Tuple (input, targets, learning rate, keep probability, target sequence length,\n",
    "    max target sequence length, source sequence length)\n",
    "    \"\"\"\n",
    "    # TODO: Implement Function\n",
    "    inputs = tf.placeholder(tf.int32, shape = (None, None), name = 'input')\n",
    "    targets = tf.placeholder(tf.int32, shape = (None, None), name = 'targets')\n",
    "    learning_rate = tf.placeholder(tf.float32, name = 'learning_rate')\n",
    "    keep_prob = tf.placeholder(tf.float32, name = 'keep_prob')\n",
    "    tgt_seq_length = tf.placeholder(tf.int32, (None,), name = 'target_sequence_length')\n",
    "    src_seq_length = tf.placeholder(tf.int32, (None,), name = 'source_sequence_length')\n",
    "    \n",
    "    max_tgt_seq_length = tf.reduce_max(tgt_seq_length, name = 'max_target_sequence_length')\n",
    "\n",
    "    return inputs, targets, learning_rate, keep_prob, tgt_seq_length, max_tgt_seq_length, src_seq_length\n",
    "\n",
    "\"\"\"\n",
    "DON'T MODIFY ANYTHING IN THIS CELL THAT IS BELOW THIS LINE\n",
    "\"\"\"\n",
    "tests.test_model_inputs(model_inputs)"
   ]
  },
  {
   "cell_type": "markdown",
   "metadata": {
    "deletable": true,
    "editable": true
   },
   "source": [
    "### Process Decoder Input\n",
    "Implement `process_decoder_input` by removing the last word id from each batch in `target_data` and concat the GO ID to the begining of each batch."
   ]
  },
  {
   "cell_type": "code",
   "execution_count": 11,
   "metadata": {
    "collapsed": false,
    "deletable": true,
    "editable": true
   },
   "outputs": [
    {
     "name": "stdout",
     "output_type": "stream",
     "text": [
      "Tests Passed\n"
     ]
    }
   ],
   "source": [
    "def process_decoder_input(target_data, target_vocab_to_int, batch_size):\n",
    "    \"\"\"\n",
    "    Preprocess target data for encoding\n",
    "    :param target_data: Target Placehoder\n",
    "    :param target_vocab_to_int: Dictionary to go from the target words to an id\n",
    "    :param batch_size: Batch Size\n",
    "    :return: Preprocessed target data\n",
    "    \"\"\"\n",
    "    # TODO: Implement Function\n",
    "    ending = tf.strided_slice(target_data, [0,0], [batch_size, -1], [1, 1])\n",
    "    dec_input = tf.concat([tf.fill([batch_size, 1], target_vocab_to_int['<GO>']), ending], 1)\n",
    "    return dec_input\n",
    "\n",
    "\"\"\"\n",
    "DON'T MODIFY ANYTHING IN THIS CELL THAT IS BELOW THIS LINE\n",
    "\"\"\"\n",
    "tests.test_process_encoding_input(process_decoder_input)"
   ]
  },
  {
   "cell_type": "markdown",
   "metadata": {
    "deletable": true,
    "editable": true
   },
   "source": [
    "### Encoding\n",
    "Implement `encoding_layer()` to create a Encoder RNN layer:\n",
    " * Embed the encoder input using [`tf.contrib.layers.embed_sequence`](https://www.tensorflow.org/api_docs/python/tf/contrib/layers/embed_sequence)\n",
    " * Construct a [stacked](https://github.com/tensorflow/tensorflow/blob/6947f65a374ebf29e74bb71e36fd82760056d82c/tensorflow/docs_src/tutorials/recurrent.md#stacking-multiple-lstms) [`tf.contrib.rnn.LSTMCell`](https://www.tensorflow.org/api_docs/python/tf/contrib/rnn/LSTMCell) wrapped in a [`tf.contrib.rnn.DropoutWrapper`](https://www.tensorflow.org/api_docs/python/tf/contrib/rnn/DropoutWrapper)\n",
    " * Pass cell and embedded input to [`tf.nn.dynamic_rnn()`](https://www.tensorflow.org/api_docs/python/tf/nn/dynamic_rnn)"
   ]
  },
  {
   "cell_type": "code",
   "execution_count": 13,
   "metadata": {
    "collapsed": false,
    "deletable": true,
    "editable": true,
    "scrolled": false
   },
   "outputs": [
    {
     "name": "stdout",
     "output_type": "stream",
     "text": [
      "Tests Passed\n"
     ]
    }
   ],
   "source": [
    "from imp import reload\n",
    "reload(tests)\n",
    "\n",
    "def encoding_layer(rnn_inputs, rnn_size, num_layers, keep_prob, \n",
    "                   source_sequence_length, source_vocab_size, \n",
    "                   encoding_embedding_size):\n",
    "    \"\"\"\n",
    "    Create encoding layer\n",
    "    :param rnn_inputs: Inputs for the RNN\n",
    "    :param rnn_size: RNN Size\n",
    "    :param num_layers: Number of layers\n",
    "    :param keep_prob: Dropout keep probability\n",
    "    :param source_sequence_length: a list of the lengths of each sequence in the batch\n",
    "    :param source_vocab_size: vocabulary size of source data\n",
    "    :param encoding_embedding_size: embedding size of source data\n",
    "    :return: tuple (RNN output, RNN state)\n",
    "    \"\"\"\n",
    "    # TODO: Implement Function\n",
    "    enc_embed_input = tf.contrib.layers.embed_sequence(rnn_inputs, \n",
    "                                                       source_vocab_size, \n",
    "                                                       encoding_embedding_size)\n",
    "    \n",
    "    # RNN cell\n",
    "    def make_cell(rnn_size):\n",
    "        enc_cell = tf.contrib.rnn.LSTMCell(rnn_size, initializer = tf.random_uniform_initializer(-0.1, 0.1, seed = 2))\n",
    "        return enc_cell\n",
    "    \n",
    "    enc_cell = tf.contrib.rnn.MultiRNNCell([make_cell(rnn_size) for _ in range(num_layers)])\n",
    "    enc_cell = tf.contrib.rnn.DropoutWrapper(enc_cell, output_keep_prob = keep_prob)\n",
    "    enc_output, enc_state = tf.nn.dynamic_rnn(enc_cell, enc_embed_input, sequence_length = source_sequence_length, dtype = tf.float32)\n",
    "    return enc_output, enc_state\n",
    "\n",
    "\"\"\"\n",
    "DON'T MODIFY ANYTHING IN THIS CELL THAT IS BELOW THIS LINE\n",
    "\"\"\"\n",
    "tests.test_encoding_layer(encoding_layer)"
   ]
  },
  {
   "cell_type": "markdown",
   "metadata": {
    "deletable": true,
    "editable": true
   },
   "source": [
    "### Decoding - Training\n",
    "Create a training decoding layer:\n",
    "* Create a [`tf.contrib.seq2seq.TrainingHelper`](https://www.tensorflow.org/api_docs/python/tf/contrib/seq2seq/TrainingHelper) \n",
    "* Create a [`tf.contrib.seq2seq.BasicDecoder`](https://www.tensorflow.org/api_docs/python/tf/contrib/seq2seq/BasicDecoder)\n",
    "* Obtain the decoder outputs from [`tf.contrib.seq2seq.dynamic_decode`](https://www.tensorflow.org/api_docs/python/tf/contrib/seq2seq/dynamic_decode)"
   ]
  },
  {
   "cell_type": "code",
   "execution_count": 21,
   "metadata": {
    "collapsed": false,
    "deletable": true,
    "editable": true
   },
   "outputs": [
    {
     "name": "stdout",
     "output_type": "stream",
     "text": [
      "Tests Passed\n"
     ]
    }
   ],
   "source": [
    "\n",
    "def decoding_layer_train(encoder_state, dec_cell, dec_embed_input, \n",
    "                         target_sequence_length, max_summary_length, \n",
    "                         output_layer, keep_prob):\n",
    "    \"\"\"\n",
    "    Create a decoding layer for training\n",
    "    :param encoder_state: Encoder State\n",
    "    :param dec_cell: Decoder RNN Cell\n",
    "    :param dec_embed_input: Decoder embedded input\n",
    "    :param target_sequence_length: The lengths of each sequence in the target batch\n",
    "    :param max_summary_length: The length of the longest sequence in the batch\n",
    "    :param output_layer: Function to apply the output layer\n",
    "    :param keep_prob: Dropout keep probability\n",
    "    :return: BasicDecoderOutput containing training logits and sample_id\n",
    "    \"\"\"\n",
    "    # TODO: Implement Function\n",
    "    \n",
    "    training_helper = tf.contrib.seq2seq.TrainingHelper(inputs = dec_embed_input, \n",
    "                                                       sequence_length = target_sequence_length,\n",
    "                                                       time_major = False)\n",
    "    training_decoder = tf.contrib.seq2seq.BasicDecoder(cell = dec_cell, \n",
    "                                                       helper = training_helper, \n",
    "                                                       initial_state = encoder_state,\n",
    "                                                       output_layer = output_layer)\n",
    "    dec_outputs = tf.contrib.seq2seq.dynamic_decode(decoder = training_decoder, \n",
    "                                                    impute_finished = True,\n",
    "                                                    maximum_iterations = max_summary_length)[0]\n",
    "    #train_logits = output_layer(dec_outputs)\n",
    "    \n",
    "    return dec_outputs\n",
    "\n",
    "\n",
    "\n",
    "\"\"\"\n",
    "DON'T MODIFY ANYTHING IN THIS CELL THAT IS BELOW THIS LINE\n",
    "\"\"\"\n",
    "tests.test_decoding_layer_train(decoding_layer_train)"
   ]
  },
  {
   "cell_type": "markdown",
   "metadata": {
    "deletable": true,
    "editable": true
   },
   "source": [
    "### Decoding - Inference\n",
    "Create inference decoder:\n",
    "* Create a [`tf.contrib.seq2seq.GreedyEmbeddingHelper`](https://www.tensorflow.org/api_docs/python/tf/contrib/seq2seq/GreedyEmbeddingHelper)\n",
    "* Create a [`tf.contrib.seq2seq.BasicDecoder`](https://www.tensorflow.org/api_docs/python/tf/contrib/seq2seq/BasicDecoder)\n",
    "* Obtain the decoder outputs from [`tf.contrib.seq2seq.dynamic_decode`](https://www.tensorflow.org/api_docs/python/tf/contrib/seq2seq/dynamic_decode)"
   ]
  },
  {
   "cell_type": "code",
   "execution_count": 27,
   "metadata": {
    "collapsed": false,
    "deletable": true,
    "editable": true,
    "scrolled": true
   },
   "outputs": [
    {
     "name": "stdout",
     "output_type": "stream",
     "text": [
      "Tests Passed\n"
     ]
    }
   ],
   "source": [
    "def decoding_layer_infer(encoder_state, dec_cell, dec_embeddings, start_of_sequence_id,\n",
    "                         end_of_sequence_id, max_target_sequence_length,\n",
    "                         vocab_size, output_layer, batch_size, keep_prob):\n",
    "    \"\"\"\n",
    "    Create a decoding layer for inference\n",
    "    :param encoder_state: Encoder state\n",
    "    :param dec_cell: Decoder RNN Cell\n",
    "    :param dec_embeddings: Decoder embeddings\n",
    "    :param start_of_sequence_id: GO ID\n",
    "    :param end_of_sequence_id: EOS Id\n",
    "    :param max_target_sequence_length: Maximum length of target sequences\n",
    "    :param vocab_size: Size of decoder/target vocabulary\n",
    "    :param decoding_scope: TenorFlow Variable Scope for decoding\n",
    "    :param output_layer: Function to apply the output layer\n",
    "    :param batch_size: Batch size\n",
    "    :param keep_prob: Dropout keep probability\n",
    "    :return: BasicDecoderOutput containing inference logits and sample_id\n",
    "    \"\"\"\n",
    "    # TODO: Implement Function\n",
    "    # tile the start tokens for inference helper\n",
    "    start_tokens = tf.tile(tf.constant([start_of_sequence_id], dtype = tf.int32), [batch_size], name = 'start_tokens')\n",
    "    \n",
    "    inference_helper = tf.contrib.seq2seq.GreedyEmbeddingHelper(embedding = dec_embeddings,\n",
    "                                                                start_tokens = start_tokens,\n",
    "                                                                end_token = end_of_sequence_id)\n",
    "    \n",
    "    inference_decoder = tf.contrib.seq2seq.BasicDecoder(cell = dec_cell,\n",
    "                                                        helper = inference_helper, \n",
    "                                                        initial_state = encoder_state,\n",
    "                                                        output_layer = output_layer)\n",
    "    decoder_outputs = tf.contrib.seq2seq.dynamic_decode(decoder = inference_decoder,\n",
    "                                                        impute_finished = True,\n",
    "                                                        maximum_iterations = max_target_sequence_length)[0]\n",
    "    return decoder_outputs\n",
    "\n",
    "\n",
    "\n",
    "\"\"\"\n",
    "DON'T MODIFY ANYTHING IN THIS CELL THAT IS BELOW THIS LINE\n",
    "\"\"\"\n",
    "tests.test_decoding_layer_infer(decoding_layer_infer)"
   ]
  },
  {
   "cell_type": "markdown",
   "metadata": {
    "deletable": true,
    "editable": true
   },
   "source": [
    "### Build the Decoding Layer\n",
    "Implement `decoding_layer()` to create a Decoder RNN layer.\n",
    "\n",
    "* Embed the target sequences\n",
    "* Construct the decoder LSTM cell (just like you constructed the encoder cell above)\n",
    "* Create an output layer to map the outputs of the decoder to the elements of our vocabulary\n",
    "* Use the your `decoding_layer_train(encoder_state, dec_cell, dec_embed_input, target_sequence_length, max_target_sequence_length, output_layer, keep_prob)` function to get the training logits.\n",
    "* Use your `decoding_layer_infer(encoder_state, dec_cell, dec_embeddings, start_of_sequence_id, end_of_sequence_id, max_target_sequence_length, vocab_size, output_layer, batch_size, keep_prob)` function to get the inference logits.\n",
    "\n",
    "Note: You'll need to use [tf.variable_scope](https://www.tensorflow.org/api_docs/python/tf/variable_scope) to share variables between training and inference."
   ]
  },
  {
   "cell_type": "code",
   "execution_count": 31,
   "metadata": {
    "collapsed": false,
    "deletable": true,
    "editable": true
   },
   "outputs": [
    {
     "name": "stdout",
     "output_type": "stream",
     "text": [
      "Tests Passed\n"
     ]
    }
   ],
   "source": [
    "def decoding_layer(dec_input, encoder_state,\n",
    "                   target_sequence_length, max_target_sequence_length,\n",
    "                   rnn_size,\n",
    "                   num_layers, target_vocab_to_int, target_vocab_size,\n",
    "                   batch_size, keep_prob, decoding_embedding_size):\n",
    "    \"\"\"\n",
    "    Create decoding layer\n",
    "    :param dec_input: Decoder input\n",
    "    :param encoder_state: Encoder state\n",
    "    :param target_sequence_length: The lengths of each sequence in the target batch\n",
    "    :param max_target_sequence_length: Maximum length of target sequences\n",
    "    :param rnn_size: RNN Size\n",
    "    :param num_layers: Number of layers\n",
    "    :param target_vocab_to_int: Dictionary to go from the target words to an id\n",
    "    :param target_vocab_size: Size of target vocabulary\n",
    "    :param batch_size: The size of the batch\n",
    "    :param keep_prob: Dropout keep probability\n",
    "    :param decoding_embedding_size: Decoding embedding size\n",
    "    :return: Tuple of (Training BasicDecoderOutput, Inference BasicDecoderOutput)\n",
    "    \"\"\"\n",
    "    # TODO: Implement Function\n",
    "    \n",
    "    # Embed the target sequences\n",
    "    dec_embeddings = tf.Variable(tf.random_uniform([target_vocab_size, decoding_embedding_size]))\n",
    "    dec_embed_input = tf.nn.embedding_lookup(dec_embeddings, dec_input)\n",
    "    \n",
    "    # Construct decoder LSTM cell\n",
    "    def make_cell(rnn_size):\n",
    "        cell = tf.contrib.rnn.LSTMCell(rnn_size, initializer = tf.random_uniform_initializer(-0.1, 0.1, seed = 2))\n",
    "        return cell\n",
    "    dec_cell = tf.contrib.rnn.MultiRNNCell([make_cell(rnn_size) for _ in range(num_layers)])\n",
    "    \n",
    "    # Create output layer\n",
    "    output_layer = Dense(target_vocab_size, kernel_initializer = tf.truncated_normal_initializer(mean = 0.0, stddev = 0.1))\n",
    "    \n",
    "    # Use decoding_layer_train to get training logits\n",
    "    with tf.variable_scope(\"decode\"):\n",
    "        train_logits = decoding_layer_train(encoder_state = encoder_state,\n",
    "                                            dec_cell = dec_cell,\n",
    "                                            dec_embed_input = dec_embed_input, \n",
    "                                            target_sequence_length = target_sequence_length,\n",
    "                                            max_summary_length = max_target_sequence_length,\n",
    "                                            output_layer = output_layer,\n",
    "                                            keep_prob = keep_prob)\n",
    "    # end with\n",
    "    \n",
    "    # Use decoding_layer_infer to get logits at inference time\n",
    "    with tf.variable_scope(\"decode\", reuse = True):\n",
    "        inference_logits = decoding_layer_infer(encoder_state = encoder_state, \n",
    "                                                dec_cell = dec_cell, \n",
    "                                                dec_embeddings = dec_embeddings, \n",
    "                                                start_of_sequence_id = target_vocab_to_int['<GO>'], \n",
    "                                                end_of_sequence_id = target_vocab_to_int['<EOS>'], \n",
    "                                                max_target_sequence_length = max_target_sequence_length, \n",
    "                                                vocab_size = target_vocab_size, \n",
    "                                                output_layer = output_layer, \n",
    "                                                batch_size = batch_size, \n",
    "                                                keep_prob = keep_prob)\n",
    "    # end with\n",
    "    \n",
    "    return train_logits, inference_logits\n",
    "\n",
    "\n",
    "\n",
    "\"\"\"\n",
    "DON'T MODIFY ANYTHING IN THIS CELL THAT IS BELOW THIS LINE\n",
    "\"\"\"\n",
    "tests.test_decoding_layer(decoding_layer)"
   ]
  },
  {
   "cell_type": "markdown",
   "metadata": {
    "deletable": true,
    "editable": true
   },
   "source": [
    "### Build the Neural Network\n",
    "Apply the functions you implemented above to:\n",
    "\n",
    "- Encode the input using your `encoding_layer(rnn_inputs, rnn_size, num_layers, keep_prob,  source_sequence_length, source_vocab_size, encoding_embedding_size)`.\n",
    "- Process target data using your `process_decoder_input(target_data, target_vocab_to_int, batch_size)` function.\n",
    "- Decode the encoded input using your `decoding_layer(dec_input, enc_state, target_sequence_length, max_target_sentence_length, rnn_size, num_layers, target_vocab_to_int, target_vocab_size, batch_size, keep_prob, dec_embedding_size)` function."
   ]
  },
  {
   "cell_type": "code",
   "execution_count": 32,
   "metadata": {
    "collapsed": false,
    "deletable": true,
    "editable": true
   },
   "outputs": [
    {
     "name": "stdout",
     "output_type": "stream",
     "text": [
      "Tests Passed\n"
     ]
    }
   ],
   "source": [
    "def seq2seq_model(input_data, target_data, keep_prob, batch_size,\n",
    "                  source_sequence_length, target_sequence_length,\n",
    "                  max_target_sentence_length,\n",
    "                  source_vocab_size, target_vocab_size,\n",
    "                  enc_embedding_size, dec_embedding_size,\n",
    "                  rnn_size, num_layers, target_vocab_to_int):\n",
    "    \"\"\"\n",
    "    Build the Sequence-to-Sequence part of the neural network\n",
    "    :param input_data: Input placeholder\n",
    "    :param target_data: Target placeholder\n",
    "    :param keep_prob: Dropout keep probability placeholder\n",
    "    :param batch_size: Batch Size\n",
    "    :param source_sequence_length: Sequence Lengths of source sequences in the batch\n",
    "    :param target_sequence_length: Sequence Lengths of target sequences in the batch\n",
    "    :param source_vocab_size: Source vocabulary size\n",
    "    :param target_vocab_size: Target vocabulary size\n",
    "    :param enc_embedding_size: Decoder embedding size\n",
    "    :param dec_embedding_size: Encoder embedding size\n",
    "    :param rnn_size: RNN Size\n",
    "    :param num_layers: Number of layers\n",
    "    :param target_vocab_to_int: Dictionary to go from the target words to an id\n",
    "    :return: Tuple of (Training BasicDecoderOutput, Inference BasicDecoderOutput)\n",
    "    \"\"\"\n",
    "    # TODO: Implement Function\n",
    "    \n",
    "    # Encode input using encoding_layer\n",
    "    _, enc_state = encoding_layer( rnn_inputs = input_data, \n",
    "                                   rnn_size = rnn_size, \n",
    "                                   num_layers = num_layers, \n",
    "                                   keep_prob = keep_prob, \n",
    "                                   source_sequence_length = source_sequence_length, \n",
    "                                   source_vocab_size = source_vocab_size, \n",
    "                                   encoding_embedding_size = enc_embedding_size)\n",
    "    \n",
    "    # Process target data using process_decoder_input\n",
    "    dec_input = process_decoder_input(target_data = target_data, \n",
    "                                      target_vocab_to_int = target_vocab_to_int, \n",
    "                                      batch_size = batch_size)\n",
    "    # decode the encoded input using decoding_layer\n",
    "    dec_output_train, dec_output_infer = decoding_layer(   dec_input = dec_input, \n",
    "                                                           encoder_state = enc_state,\n",
    "                                                           target_sequence_length = target_sequence_length, \n",
    "                                                           max_target_sequence_length = max_target_sentence_length,\n",
    "                                                           rnn_size = rnn_size,\n",
    "                                                           num_layers = num_layers, \n",
    "                                                           target_vocab_to_int = target_vocab_to_int, \n",
    "                                                           target_vocab_size = target_vocab_size,\n",
    "                                                           batch_size = batch_size, \n",
    "                                                           keep_prob = keep_prob, \n",
    "                                                           decoding_embedding_size = dec_embedding_size)\n",
    "    \n",
    "    return dec_output_train, dec_output_infer\n",
    "\n",
    "\n",
    "\"\"\"\n",
    "DON'T MODIFY ANYTHING IN THIS CELL THAT IS BELOW THIS LINE\n",
    "\"\"\"\n",
    "tests.test_seq2seq_model(seq2seq_model)"
   ]
  },
  {
   "cell_type": "markdown",
   "metadata": {
    "deletable": true,
    "editable": true
   },
   "source": [
    "## Neural Network Training\n",
    "### Hyperparameters\n",
    "Tune the following parameters:\n",
    "\n",
    "- Set `epochs` to the number of epochs.\n",
    "- Set `batch_size` to the batch size.\n",
    "- Set `rnn_size` to the size of the RNNs.\n",
    "- Set `num_layers` to the number of layers.\n",
    "- Set `encoding_embedding_size` to the size of the embedding for the encoder.\n",
    "- Set `decoding_embedding_size` to the size of the embedding for the decoder.\n",
    "- Set `learning_rate` to the learning rate.\n",
    "- Set `keep_probability` to the Dropout keep probability\n",
    "- Set `display_step` to state how many steps between each debug output statement"
   ]
  },
  {
   "cell_type": "code",
   "execution_count": 49,
   "metadata": {
    "collapsed": true,
    "deletable": true,
    "editable": true
   },
   "outputs": [],
   "source": [
    "# Number of Epochs\n",
    "epochs = 20\n",
    "# Batch Size\n",
    "batch_size = 128\n",
    "# RNN Size\n",
    "rnn_size = 64\n",
    "# Number of Layers\n",
    "num_layers = 2\n",
    "# Embedding Size\n",
    "encoding_embedding_size = 15\n",
    "decoding_embedding_size = 15\n",
    "# Learning Rate\n",
    "learning_rate = 0.01\n",
    "# Dropout Keep Probability\n",
    "keep_probability = 0.4\n",
    "display_step = 64"
   ]
  },
  {
   "cell_type": "markdown",
   "metadata": {
    "deletable": true,
    "editable": true
   },
   "source": [
    "### Build the Graph\n",
    "Build the graph using the neural network you implemented."
   ]
  },
  {
   "cell_type": "code",
   "execution_count": 50,
   "metadata": {
    "collapsed": true,
    "deletable": true,
    "editable": true
   },
   "outputs": [],
   "source": [
    "\"\"\"\n",
    "DON'T MODIFY ANYTHING IN THIS CELL\n",
    "\"\"\"\n",
    "save_path = 'checkpoints/dev'\n",
    "(source_int_text, target_int_text), (source_vocab_to_int, target_vocab_to_int), _ = helper.load_preprocess()\n",
    "max_target_sentence_length = max([len(sentence) for sentence in source_int_text])\n",
    "\n",
    "train_graph = tf.Graph()\n",
    "with train_graph.as_default():\n",
    "    input_data, targets, lr, keep_prob, target_sequence_length, max_target_sequence_length, source_sequence_length = model_inputs()\n",
    "\n",
    "    #sequence_length = tf.placeholder_with_default(max_target_sentence_length, None, name='sequence_length')\n",
    "    input_shape = tf.shape(input_data)\n",
    "\n",
    "    train_logits, inference_logits = seq2seq_model(tf.reverse(input_data, [-1]),\n",
    "                                                   targets,\n",
    "                                                   keep_prob,\n",
    "                                                   batch_size,\n",
    "                                                   source_sequence_length,\n",
    "                                                   target_sequence_length,\n",
    "                                                   max_target_sequence_length,\n",
    "                                                   len(source_vocab_to_int),\n",
    "                                                   len(target_vocab_to_int),\n",
    "                                                   encoding_embedding_size,\n",
    "                                                   decoding_embedding_size,\n",
    "                                                   rnn_size,\n",
    "                                                   num_layers,\n",
    "                                                   target_vocab_to_int)\n",
    "\n",
    "\n",
    "    training_logits = tf.identity(train_logits.rnn_output, name='logits')\n",
    "    inference_logits = tf.identity(inference_logits.sample_id, name='predictions')\n",
    "\n",
    "    masks = tf.sequence_mask(target_sequence_length, max_target_sequence_length, dtype=tf.float32, name='masks')\n",
    "\n",
    "    with tf.name_scope(\"optimization\"):\n",
    "        # Loss function\n",
    "        cost = tf.contrib.seq2seq.sequence_loss(\n",
    "            training_logits,\n",
    "            targets,\n",
    "            masks)\n",
    "\n",
    "        # Optimizer\n",
    "        optimizer = tf.train.AdamOptimizer(lr)\n",
    "\n",
    "        # Gradient Clipping\n",
    "        gradients = optimizer.compute_gradients(cost)\n",
    "        capped_gradients = [(tf.clip_by_value(grad, -1., 1.), var) for grad, var in gradients if grad is not None]\n",
    "        train_op = optimizer.apply_gradients(capped_gradients)\n"
   ]
  },
  {
   "cell_type": "markdown",
   "metadata": {
    "deletable": true,
    "editable": true
   },
   "source": [
    "Batch and pad the source and target sequences"
   ]
  },
  {
   "cell_type": "code",
   "execution_count": 51,
   "metadata": {
    "collapsed": true,
    "deletable": true,
    "editable": true
   },
   "outputs": [],
   "source": [
    "\"\"\"\n",
    "DON'T MODIFY ANYTHING IN THIS CELL\n",
    "\"\"\"\n",
    "def pad_sentence_batch(sentence_batch, pad_int):\n",
    "    \"\"\"Pad sentences with <PAD> so that each sentence of a batch has the same length\"\"\"\n",
    "    max_sentence = max([len(sentence) for sentence in sentence_batch])\n",
    "    return [sentence + [pad_int] * (max_sentence - len(sentence)) for sentence in sentence_batch]\n",
    "\n",
    "\n",
    "def get_batches(sources, targets, batch_size, source_pad_int, target_pad_int):\n",
    "    \"\"\"Batch targets, sources, and the lengths of their sentences together\"\"\"\n",
    "    for batch_i in range(0, len(sources)//batch_size):\n",
    "        start_i = batch_i * batch_size\n",
    "\n",
    "        # Slice the right amount for the batch\n",
    "        sources_batch = sources[start_i:start_i + batch_size]\n",
    "        targets_batch = targets[start_i:start_i + batch_size]\n",
    "\n",
    "        # Pad\n",
    "        pad_sources_batch = np.array(pad_sentence_batch(sources_batch, source_pad_int))\n",
    "        pad_targets_batch = np.array(pad_sentence_batch(targets_batch, target_pad_int))\n",
    "\n",
    "        # Need the lengths for the _lengths parameters\n",
    "        pad_targets_lengths = []\n",
    "        for target in pad_targets_batch:\n",
    "            pad_targets_lengths.append(len(target))\n",
    "\n",
    "        pad_source_lengths = []\n",
    "        for source in pad_sources_batch:\n",
    "            pad_source_lengths.append(len(source))\n",
    "\n",
    "        yield pad_sources_batch, pad_targets_batch, pad_source_lengths, pad_targets_lengths\n"
   ]
  },
  {
   "cell_type": "markdown",
   "metadata": {
    "deletable": true,
    "editable": true
   },
   "source": [
    "### Train\n",
    "Train the neural network on the preprocessed data. If you have a hard time getting a good loss, check the forms to see if anyone is having the same problem."
   ]
  },
  {
   "cell_type": "code",
   "execution_count": 52,
   "metadata": {
    "collapsed": false,
    "deletable": true,
    "editable": true,
    "scrolled": true
   },
   "outputs": [
    {
     "name": "stdout",
     "output_type": "stream",
     "text": [
      "Epoch   0 Batch   64/1077 - Train Accuracy: 0.4039, Validation Accuracy: 0.4645, Loss: 2.3807\n",
      "Epoch   0 Batch  128/1077 - Train Accuracy: 0.4740, Validation Accuracy: 0.4826, Loss: 1.5362\n",
      "Epoch   0 Batch  192/1077 - Train Accuracy: 0.4910, Validation Accuracy: 0.5451, Loss: 1.0780\n",
      "Epoch   0 Batch  256/1077 - Train Accuracy: 0.4477, Validation Accuracy: 0.4915, Loss: 0.8691\n",
      "Epoch   0 Batch  320/1077 - Train Accuracy: 0.5859, Validation Accuracy: 0.5771, Loss: 0.7306\n",
      "Epoch   0 Batch  384/1077 - Train Accuracy: 0.5738, Validation Accuracy: 0.5650, Loss: 0.5951\n",
      "Epoch   0 Batch  448/1077 - Train Accuracy: 0.6055, Validation Accuracy: 0.5806, Loss: 0.5639\n",
      "Epoch   0 Batch  512/1077 - Train Accuracy: 0.6648, Validation Accuracy: 0.6278, Loss: 0.4858\n",
      "Epoch   0 Batch  576/1077 - Train Accuracy: 0.6624, Validation Accuracy: 0.6399, Loss: 0.4800\n",
      "Epoch   0 Batch  640/1077 - Train Accuracy: 0.6213, Validation Accuracy: 0.6520, Loss: 0.4518\n",
      "Epoch   0 Batch  704/1077 - Train Accuracy: 0.6641, Validation Accuracy: 0.6900, Loss: 0.4561\n",
      "Epoch   0 Batch  768/1077 - Train Accuracy: 0.7027, Validation Accuracy: 0.6918, Loss: 0.3805\n",
      "Epoch   0 Batch  832/1077 - Train Accuracy: 0.6980, Validation Accuracy: 0.6918, Loss: 0.3618\n",
      "Epoch   0 Batch  896/1077 - Train Accuracy: 0.7052, Validation Accuracy: 0.7422, Loss: 0.3596\n",
      "Epoch   0 Batch  960/1077 - Train Accuracy: 0.7333, Validation Accuracy: 0.7276, Loss: 0.3077\n",
      "Epoch   0 Batch 1024/1077 - Train Accuracy: 0.7375, Validation Accuracy: 0.7461, Loss: 0.3276\n",
      "Epoch   1 Batch   64/1077 - Train Accuracy: 0.7902, Validation Accuracy: 0.7500, Loss: 0.2589\n",
      "Epoch   1 Batch  128/1077 - Train Accuracy: 0.8092, Validation Accuracy: 0.7784, Loss: 0.2365\n",
      "Epoch   1 Batch  192/1077 - Train Accuracy: 0.8020, Validation Accuracy: 0.7784, Loss: 0.2582\n",
      "Epoch   1 Batch  256/1077 - Train Accuracy: 0.7809, Validation Accuracy: 0.7876, Loss: 0.2559\n",
      "Epoch   1 Batch  320/1077 - Train Accuracy: 0.8434, Validation Accuracy: 0.8260, Loss: 0.2196\n",
      "Epoch   1 Batch  384/1077 - Train Accuracy: 0.8246, Validation Accuracy: 0.8100, Loss: 0.1949\n",
      "Epoch   1 Batch  448/1077 - Train Accuracy: 0.8184, Validation Accuracy: 0.7873, Loss: 0.2002\n",
      "Epoch   1 Batch  512/1077 - Train Accuracy: 0.8441, Validation Accuracy: 0.8139, Loss: 0.1604\n",
      "Epoch   1 Batch  576/1077 - Train Accuracy: 0.8429, Validation Accuracy: 0.8235, Loss: 0.1660\n",
      "Epoch   1 Batch  640/1077 - Train Accuracy: 0.8255, Validation Accuracy: 0.8342, Loss: 0.1387\n",
      "Epoch   1 Batch  704/1077 - Train Accuracy: 0.8223, Validation Accuracy: 0.8505, Loss: 0.1672\n",
      "Epoch   1 Batch  768/1077 - Train Accuracy: 0.8598, Validation Accuracy: 0.8409, Loss: 0.1219\n",
      "Epoch   1 Batch  832/1077 - Train Accuracy: 0.8844, Validation Accuracy: 0.8409, Loss: 0.1209\n",
      "Epoch   1 Batch  896/1077 - Train Accuracy: 0.8812, Validation Accuracy: 0.8651, Loss: 0.1164\n",
      "Epoch   1 Batch  960/1077 - Train Accuracy: 0.8538, Validation Accuracy: 0.8608, Loss: 0.1142\n",
      "Epoch   1 Batch 1024/1077 - Train Accuracy: 0.8598, Validation Accuracy: 0.8647, Loss: 0.1224\n",
      "Epoch   2 Batch   64/1077 - Train Accuracy: 0.9156, Validation Accuracy: 0.8469, Loss: 0.0955\n",
      "Epoch   2 Batch  128/1077 - Train Accuracy: 0.9133, Validation Accuracy: 0.8434, Loss: 0.0925\n",
      "Epoch   2 Batch  192/1077 - Train Accuracy: 0.8785, Validation Accuracy: 0.8555, Loss: 0.1061\n",
      "Epoch   2 Batch  256/1077 - Train Accuracy: 0.8746, Validation Accuracy: 0.8754, Loss: 0.1134\n",
      "Epoch   2 Batch  320/1077 - Train Accuracy: 0.8934, Validation Accuracy: 0.8629, Loss: 0.1032\n",
      "Epoch   2 Batch  384/1077 - Train Accuracy: 0.9051, Validation Accuracy: 0.8629, Loss: 0.0786\n",
      "Epoch   2 Batch  448/1077 - Train Accuracy: 0.9062, Validation Accuracy: 0.8608, Loss: 0.0917\n",
      "Epoch   2 Batch  512/1077 - Train Accuracy: 0.9187, Validation Accuracy: 0.8640, Loss: 0.0768\n",
      "Epoch   2 Batch  576/1077 - Train Accuracy: 0.9025, Validation Accuracy: 0.8345, Loss: 0.0793\n",
      "Epoch   2 Batch  640/1077 - Train Accuracy: 0.8996, Validation Accuracy: 0.8821, Loss: 0.0668\n",
      "Epoch   2 Batch  704/1077 - Train Accuracy: 0.8871, Validation Accuracy: 0.8516, Loss: 0.0897\n",
      "Epoch   2 Batch  768/1077 - Train Accuracy: 0.9160, Validation Accuracy: 0.9052, Loss: 0.0714\n",
      "Epoch   2 Batch  832/1077 - Train Accuracy: 0.9141, Validation Accuracy: 0.8920, Loss: 0.0670\n",
      "Epoch   2 Batch  896/1077 - Train Accuracy: 0.9137, Validation Accuracy: 0.8871, Loss: 0.0723\n",
      "Epoch   2 Batch  960/1077 - Train Accuracy: 0.9211, Validation Accuracy: 0.8903, Loss: 0.0599\n",
      "Epoch   2 Batch 1024/1077 - Train Accuracy: 0.9023, Validation Accuracy: 0.8817, Loss: 0.0775\n",
      "Epoch   3 Batch   64/1077 - Train Accuracy: 0.9516, Validation Accuracy: 0.8817, Loss: 0.0548\n",
      "Epoch   3 Batch  128/1077 - Train Accuracy: 0.9371, Validation Accuracy: 0.8782, Loss: 0.0670\n",
      "Epoch   3 Batch  192/1077 - Train Accuracy: 0.9246, Validation Accuracy: 0.8849, Loss: 0.0642\n",
      "Epoch   3 Batch  256/1077 - Train Accuracy: 0.8969, Validation Accuracy: 0.9098, Loss: 0.0781\n",
      "Epoch   3 Batch  320/1077 - Train Accuracy: 0.9520, Validation Accuracy: 0.9215, Loss: 0.0685\n",
      "Epoch   3 Batch  384/1077 - Train Accuracy: 0.9492, Validation Accuracy: 0.9112, Loss: 0.0534\n",
      "Epoch   3 Batch  448/1077 - Train Accuracy: 0.9273, Validation Accuracy: 0.8697, Loss: 0.0616\n",
      "Epoch   3 Batch  512/1077 - Train Accuracy: 0.9406, Validation Accuracy: 0.9144, Loss: 0.0508\n",
      "Epoch   3 Batch  576/1077 - Train Accuracy: 0.9260, Validation Accuracy: 0.9123, Loss: 0.0570\n",
      "Epoch   3 Batch  640/1077 - Train Accuracy: 0.9074, Validation Accuracy: 0.9027, Loss: 0.0472\n",
      "Epoch   3 Batch  704/1077 - Train Accuracy: 0.9230, Validation Accuracy: 0.9094, Loss: 0.0634\n",
      "Epoch   3 Batch  768/1077 - Train Accuracy: 0.9172, Validation Accuracy: 0.9219, Loss: 0.0487\n",
      "Epoch   3 Batch  832/1077 - Train Accuracy: 0.9426, Validation Accuracy: 0.9006, Loss: 0.0510\n",
      "Epoch   3 Batch  896/1077 - Train Accuracy: 0.9317, Validation Accuracy: 0.9183, Loss: 0.0518\n",
      "Epoch   3 Batch  960/1077 - Train Accuracy: 0.9408, Validation Accuracy: 0.8960, Loss: 0.0503\n",
      "Epoch   3 Batch 1024/1077 - Train Accuracy: 0.9031, Validation Accuracy: 0.9066, Loss: 0.0677\n",
      "Epoch   4 Batch   64/1077 - Train Accuracy: 0.9453, Validation Accuracy: 0.9073, Loss: 0.0419\n",
      "Epoch   4 Batch  128/1077 - Train Accuracy: 0.9542, Validation Accuracy: 0.8963, Loss: 0.0511\n",
      "Epoch   4 Batch  192/1077 - Train Accuracy: 0.9375, Validation Accuracy: 0.8977, Loss: 0.0457\n",
      "Epoch   4 Batch  256/1077 - Train Accuracy: 0.9363, Validation Accuracy: 0.8864, Loss: 0.0702\n",
      "Epoch   4 Batch  320/1077 - Train Accuracy: 0.9461, Validation Accuracy: 0.8945, Loss: 0.0608\n",
      "Epoch   4 Batch  384/1077 - Train Accuracy: 0.9582, Validation Accuracy: 0.9240, Loss: 0.0393\n",
      "Epoch   4 Batch  448/1077 - Train Accuracy: 0.9465, Validation Accuracy: 0.9194, Loss: 0.0466\n",
      "Epoch   4 Batch  512/1077 - Train Accuracy: 0.9352, Validation Accuracy: 0.9116, Loss: 0.0394\n",
      "Epoch   4 Batch  576/1077 - Train Accuracy: 0.9515, Validation Accuracy: 0.9222, Loss: 0.0384\n",
      "Epoch   4 Batch  640/1077 - Train Accuracy: 0.9286, Validation Accuracy: 0.9144, Loss: 0.0356\n",
      "Epoch   4 Batch  704/1077 - Train Accuracy: 0.9266, Validation Accuracy: 0.9190, Loss: 0.0718\n",
      "Epoch   4 Batch  768/1077 - Train Accuracy: 0.9230, Validation Accuracy: 0.9062, Loss: 0.0430\n",
      "Epoch   4 Batch  832/1077 - Train Accuracy: 0.9309, Validation Accuracy: 0.8949, Loss: 0.0414\n",
      "Epoch   4 Batch  896/1077 - Train Accuracy: 0.9235, Validation Accuracy: 0.9158, Loss: 0.0459\n",
      "Epoch   4 Batch  960/1077 - Train Accuracy: 0.9449, Validation Accuracy: 0.9151, Loss: 0.0350\n",
      "Epoch   4 Batch 1024/1077 - Train Accuracy: 0.9301, Validation Accuracy: 0.9240, Loss: 0.0551\n",
      "Epoch   5 Batch   64/1077 - Train Accuracy: 0.9648, Validation Accuracy: 0.9130, Loss: 0.0387\n",
      "Epoch   5 Batch  128/1077 - Train Accuracy: 0.9654, Validation Accuracy: 0.9116, Loss: 0.0353\n",
      "Epoch   5 Batch  192/1077 - Train Accuracy: 0.9434, Validation Accuracy: 0.9073, Loss: 0.0398\n",
      "Epoch   5 Batch  256/1077 - Train Accuracy: 0.9262, Validation Accuracy: 0.9393, Loss: 0.0612\n",
      "Epoch   5 Batch  320/1077 - Train Accuracy: 0.9414, Validation Accuracy: 0.9226, Loss: 0.0498\n",
      "Epoch   5 Batch  384/1077 - Train Accuracy: 0.9633, Validation Accuracy: 0.9361, Loss: 0.0308\n",
      "Epoch   5 Batch  448/1077 - Train Accuracy: 0.9437, Validation Accuracy: 0.9031, Loss: 0.0398\n",
      "Epoch   5 Batch  512/1077 - Train Accuracy: 0.9484, Validation Accuracy: 0.9173, Loss: 0.0343\n",
      "Epoch   5 Batch  576/1077 - Train Accuracy: 0.9301, Validation Accuracy: 0.9137, Loss: 0.0413\n",
      "Epoch   5 Batch  640/1077 - Train Accuracy: 0.9461, Validation Accuracy: 0.9332, Loss: 0.0358\n",
      "Epoch   5 Batch  704/1077 - Train Accuracy: 0.9328, Validation Accuracy: 0.9048, Loss: 0.0480\n",
      "Epoch   5 Batch  768/1077 - Train Accuracy: 0.9430, Validation Accuracy: 0.9364, Loss: 0.0355\n",
      "Epoch   5 Batch  832/1077 - Train Accuracy: 0.9324, Validation Accuracy: 0.9084, Loss: 0.0382\n",
      "Epoch   5 Batch  896/1077 - Train Accuracy: 0.9424, Validation Accuracy: 0.9240, Loss: 0.0501\n",
      "Epoch   5 Batch  960/1077 - Train Accuracy: 0.9412, Validation Accuracy: 0.9247, Loss: 0.0337\n",
      "Epoch   5 Batch 1024/1077 - Train Accuracy: 0.9301, Validation Accuracy: 0.9109, Loss: 0.0538\n",
      "Epoch   6 Batch   64/1077 - Train Accuracy: 0.9555, Validation Accuracy: 0.9130, Loss: 0.0294\n",
      "Epoch   6 Batch  128/1077 - Train Accuracy: 0.9613, Validation Accuracy: 0.9343, Loss: 0.0405\n",
      "Epoch   6 Batch  192/1077 - Train Accuracy: 0.9422, Validation Accuracy: 0.9265, Loss: 0.0361\n",
      "Epoch   6 Batch  256/1077 - Train Accuracy: 0.9453, Validation Accuracy: 0.9389, Loss: 0.0568\n",
      "Epoch   6 Batch  320/1077 - Train Accuracy: 0.9609, Validation Accuracy: 0.9162, Loss: 0.0564\n",
      "Epoch   6 Batch  384/1077 - Train Accuracy: 0.9605, Validation Accuracy: 0.9332, Loss: 0.0322\n",
      "Epoch   6 Batch  448/1077 - Train Accuracy: 0.9570, Validation Accuracy: 0.9371, Loss: 0.0439\n",
      "Epoch   6 Batch  512/1077 - Train Accuracy: 0.9625, Validation Accuracy: 0.9442, Loss: 0.0324\n",
      "Epoch   6 Batch  576/1077 - Train Accuracy: 0.9597, Validation Accuracy: 0.9325, Loss: 0.0356\n",
      "Epoch   6 Batch  640/1077 - Train Accuracy: 0.9200, Validation Accuracy: 0.9240, Loss: 0.0427\n",
      "Epoch   6 Batch  704/1077 - Train Accuracy: 0.9461, Validation Accuracy: 0.9286, Loss: 0.0353\n",
      "Epoch   6 Batch  768/1077 - Train Accuracy: 0.9570, Validation Accuracy: 0.9329, Loss: 0.0268\n",
      "Epoch   6 Batch  832/1077 - Train Accuracy: 0.9305, Validation Accuracy: 0.9361, Loss: 0.0302\n",
      "Epoch   6 Batch  896/1077 - Train Accuracy: 0.9515, Validation Accuracy: 0.9251, Loss: 0.0323\n",
      "Epoch   6 Batch  960/1077 - Train Accuracy: 0.9542, Validation Accuracy: 0.9141, Loss: 0.0348\n",
      "Epoch   6 Batch 1024/1077 - Train Accuracy: 0.9090, Validation Accuracy: 0.9315, Loss: 0.0481\n",
      "Epoch   7 Batch   64/1077 - Train Accuracy: 0.9547, Validation Accuracy: 0.9212, Loss: 0.0306\n",
      "Epoch   7 Batch  128/1077 - Train Accuracy: 0.9639, Validation Accuracy: 0.9457, Loss: 0.0364\n",
      "Epoch   7 Batch  192/1077 - Train Accuracy: 0.9305, Validation Accuracy: 0.9258, Loss: 0.0400\n",
      "Epoch   7 Batch  256/1077 - Train Accuracy: 0.9113, Validation Accuracy: 0.9386, Loss: 0.0554\n",
      "Epoch   7 Batch  320/1077 - Train Accuracy: 0.9566, Validation Accuracy: 0.9251, Loss: 0.0411\n",
      "Epoch   7 Batch  384/1077 - Train Accuracy: 0.9543, Validation Accuracy: 0.9347, Loss: 0.0421\n",
      "Epoch   7 Batch  448/1077 - Train Accuracy: 0.9422, Validation Accuracy: 0.9347, Loss: 0.0397\n",
      "Epoch   7 Batch  512/1077 - Train Accuracy: 0.9703, Validation Accuracy: 0.9418, Loss: 0.0281\n",
      "Epoch   7 Batch  576/1077 - Train Accuracy: 0.9572, Validation Accuracy: 0.9386, Loss: 0.0361\n",
      "Epoch   7 Batch  640/1077 - Train Accuracy: 0.9587, Validation Accuracy: 0.9379, Loss: 0.0267\n",
      "Epoch   7 Batch  704/1077 - Train Accuracy: 0.9473, Validation Accuracy: 0.9499, Loss: 0.0352\n",
      "Epoch   7 Batch  768/1077 - Train Accuracy: 0.9324, Validation Accuracy: 0.9428, Loss: 0.0344\n",
      "Epoch   7 Batch  832/1077 - Train Accuracy: 0.9375, Validation Accuracy: 0.9329, Loss: 0.0343\n",
      "Epoch   7 Batch  896/1077 - Train Accuracy: 0.9445, Validation Accuracy: 0.9396, Loss: 0.0314\n",
      "Epoch   7 Batch  960/1077 - Train Accuracy: 0.9308, Validation Accuracy: 0.9414, Loss: 0.0362\n",
      "Epoch   7 Batch 1024/1077 - Train Accuracy: 0.9270, Validation Accuracy: 0.9308, Loss: 0.0497\n",
      "Epoch   8 Batch   64/1077 - Train Accuracy: 0.9660, Validation Accuracy: 0.9354, Loss: 0.0252\n",
      "Epoch   8 Batch  128/1077 - Train Accuracy: 0.9777, Validation Accuracy: 0.9148, Loss: 0.0280\n",
      "Epoch   8 Batch  192/1077 - Train Accuracy: 0.9664, Validation Accuracy: 0.9421, Loss: 0.0292\n",
      "Epoch   8 Batch  256/1077 - Train Accuracy: 0.9418, Validation Accuracy: 0.9482, Loss: 0.0461\n",
      "Epoch   8 Batch  320/1077 - Train Accuracy: 0.9602, Validation Accuracy: 0.9382, Loss: 0.0461\n",
      "Epoch   8 Batch  384/1077 - Train Accuracy: 0.9770, Validation Accuracy: 0.9162, Loss: 0.0308\n",
      "Epoch   8 Batch  448/1077 - Train Accuracy: 0.9477, Validation Accuracy: 0.9215, Loss: 0.0403\n",
      "Epoch   8 Batch  512/1077 - Train Accuracy: 0.9656, Validation Accuracy: 0.9339, Loss: 0.0261\n",
      "Epoch   8 Batch  576/1077 - Train Accuracy: 0.9498, Validation Accuracy: 0.9286, Loss: 0.0313\n",
      "Epoch   8 Batch  640/1077 - Train Accuracy: 0.9635, Validation Accuracy: 0.9471, Loss: 0.0242\n",
      "Epoch   8 Batch  704/1077 - Train Accuracy: 0.9320, Validation Accuracy: 0.9446, Loss: 0.0383\n",
      "Epoch   8 Batch  768/1077 - Train Accuracy: 0.9559, Validation Accuracy: 0.9332, Loss: 0.0292\n",
      "Epoch   8 Batch  832/1077 - Train Accuracy: 0.9566, Validation Accuracy: 0.9226, Loss: 0.0350\n",
      "Epoch   8 Batch  896/1077 - Train Accuracy: 0.9346, Validation Accuracy: 0.9300, Loss: 0.0375\n",
      "Epoch   8 Batch  960/1077 - Train Accuracy: 0.9528, Validation Accuracy: 0.9347, Loss: 0.0350\n",
      "Epoch   8 Batch 1024/1077 - Train Accuracy: 0.9477, Validation Accuracy: 0.9432, Loss: 0.0392\n",
      "Epoch   9 Batch   64/1077 - Train Accuracy: 0.9637, Validation Accuracy: 0.9286, Loss: 0.0248\n",
      "Epoch   9 Batch  128/1077 - Train Accuracy: 0.9840, Validation Accuracy: 0.9300, Loss: 0.0301\n",
      "Epoch   9 Batch  192/1077 - Train Accuracy: 0.9469, Validation Accuracy: 0.9180, Loss: 0.0309\n",
      "Epoch   9 Batch  256/1077 - Train Accuracy: 0.9430, Validation Accuracy: 0.9482, Loss: 0.0439\n",
      "Epoch   9 Batch  320/1077 - Train Accuracy: 0.9656, Validation Accuracy: 0.9471, Loss: 0.0306\n",
      "Epoch   9 Batch  384/1077 - Train Accuracy: 0.9633, Validation Accuracy: 0.9467, Loss: 0.0265\n",
      "Epoch   9 Batch  448/1077 - Train Accuracy: 0.9422, Validation Accuracy: 0.9425, Loss: 0.0337\n",
      "Epoch   9 Batch  512/1077 - Train Accuracy: 0.9660, Validation Accuracy: 0.9474, Loss: 0.0242\n",
      "Epoch   9 Batch  576/1077 - Train Accuracy: 0.9371, Validation Accuracy: 0.9322, Loss: 0.0339\n",
      "Epoch   9 Batch  640/1077 - Train Accuracy: 0.9572, Validation Accuracy: 0.9336, Loss: 0.0299\n",
      "Epoch   9 Batch  704/1077 - Train Accuracy: 0.9590, Validation Accuracy: 0.9609, Loss: 0.0340\n",
      "Epoch   9 Batch  768/1077 - Train Accuracy: 0.9395, Validation Accuracy: 0.9350, Loss: 0.0310\n",
      "Epoch   9 Batch  832/1077 - Train Accuracy: 0.9527, Validation Accuracy: 0.9442, Loss: 0.0314\n",
      "Epoch   9 Batch  896/1077 - Train Accuracy: 0.9375, Validation Accuracy: 0.9524, Loss: 0.0375\n",
      "Epoch   9 Batch  960/1077 - Train Accuracy: 0.9680, Validation Accuracy: 0.9506, Loss: 0.0244\n",
      "Epoch   9 Batch 1024/1077 - Train Accuracy: 0.9488, Validation Accuracy: 0.9560, Loss: 0.0415\n",
      "Epoch  10 Batch   64/1077 - Train Accuracy: 0.9648, Validation Accuracy: 0.9457, Loss: 0.0272\n",
      "Epoch  10 Batch  128/1077 - Train Accuracy: 0.9762, Validation Accuracy: 0.9499, Loss: 0.0429\n",
      "Epoch  10 Batch  192/1077 - Train Accuracy: 0.9426, Validation Accuracy: 0.9293, Loss: 0.0408\n",
      "Epoch  10 Batch  256/1077 - Train Accuracy: 0.9305, Validation Accuracy: 0.9403, Loss: 0.0456\n",
      "Epoch  10 Batch  320/1077 - Train Accuracy: 0.9574, Validation Accuracy: 0.9613, Loss: 0.0384\n",
      "Epoch  10 Batch  384/1077 - Train Accuracy: 0.9711, Validation Accuracy: 0.9425, Loss: 0.0275\n",
      "Epoch  10 Batch  448/1077 - Train Accuracy: 0.9602, Validation Accuracy: 0.9418, Loss: 0.0343\n",
      "Epoch  10 Batch  512/1077 - Train Accuracy: 0.9660, Validation Accuracy: 0.9521, Loss: 0.0205\n",
      "Epoch  10 Batch  576/1077 - Train Accuracy: 0.9630, Validation Accuracy: 0.9517, Loss: 0.0231\n",
      "Epoch  10 Batch  640/1077 - Train Accuracy: 0.9613, Validation Accuracy: 0.9595, Loss: 0.0226\n",
      "Epoch  10 Batch  704/1077 - Train Accuracy: 0.9469, Validation Accuracy: 0.9634, Loss: 0.0325\n",
      "Epoch  10 Batch  768/1077 - Train Accuracy: 0.9531, Validation Accuracy: 0.9609, Loss: 0.0228\n",
      "Epoch  10 Batch  832/1077 - Train Accuracy: 0.9465, Validation Accuracy: 0.9183, Loss: 0.0240\n",
      "Epoch  10 Batch  896/1077 - Train Accuracy: 0.9618, Validation Accuracy: 0.9428, Loss: 0.0218\n",
      "Epoch  10 Batch  960/1077 - Train Accuracy: 0.9598, Validation Accuracy: 0.9357, Loss: 0.0264\n",
      "Epoch  10 Batch 1024/1077 - Train Accuracy: 0.9445, Validation Accuracy: 0.9538, Loss: 0.0384\n",
      "Epoch  11 Batch   64/1077 - Train Accuracy: 0.9641, Validation Accuracy: 0.9290, Loss: 0.0248\n",
      "Epoch  11 Batch  128/1077 - Train Accuracy: 0.9702, Validation Accuracy: 0.9563, Loss: 0.0301\n",
      "Epoch  11 Batch  192/1077 - Train Accuracy: 0.9559, Validation Accuracy: 0.9545, Loss: 0.0310\n",
      "Epoch  11 Batch  256/1077 - Train Accuracy: 0.9535, Validation Accuracy: 0.9531, Loss: 0.0385\n",
      "Epoch  11 Batch  320/1077 - Train Accuracy: 0.9645, Validation Accuracy: 0.9588, Loss: 0.0358\n",
      "Epoch  11 Batch  384/1077 - Train Accuracy: 0.9727, Validation Accuracy: 0.9641, Loss: 0.0304\n",
      "Epoch  11 Batch  448/1077 - Train Accuracy: 0.9617, Validation Accuracy: 0.9528, Loss: 0.0260\n",
      "Epoch  11 Batch  512/1077 - Train Accuracy: 0.9754, Validation Accuracy: 0.9499, Loss: 0.0221\n",
      "Epoch  11 Batch  576/1077 - Train Accuracy: 0.9556, Validation Accuracy: 0.9428, Loss: 0.0277\n",
      "Epoch  11 Batch  640/1077 - Train Accuracy: 0.9688, Validation Accuracy: 0.9613, Loss: 0.0237\n",
      "Epoch  11 Batch  704/1077 - Train Accuracy: 0.9527, Validation Accuracy: 0.9631, Loss: 0.0524\n",
      "Epoch  11 Batch  768/1077 - Train Accuracy: 0.9523, Validation Accuracy: 0.9517, Loss: 0.0259\n",
      "Epoch  11 Batch  832/1077 - Train Accuracy: 0.9441, Validation Accuracy: 0.9414, Loss: 0.0372\n",
      "Epoch  11 Batch  896/1077 - Train Accuracy: 0.9334, Validation Accuracy: 0.9556, Loss: 0.0325\n",
      "Epoch  11 Batch  960/1077 - Train Accuracy: 0.9498, Validation Accuracy: 0.9521, Loss: 0.0230\n",
      "Epoch  11 Batch 1024/1077 - Train Accuracy: 0.9445, Validation Accuracy: 0.9492, Loss: 0.0353\n",
      "Epoch  12 Batch   64/1077 - Train Accuracy: 0.9691, Validation Accuracy: 0.9439, Loss: 0.0190\n",
      "Epoch  12 Batch  128/1077 - Train Accuracy: 0.9680, Validation Accuracy: 0.9361, Loss: 0.0280\n",
      "Epoch  12 Batch  192/1077 - Train Accuracy: 0.9523, Validation Accuracy: 0.9414, Loss: 0.0260\n",
      "Epoch  12 Batch  256/1077 - Train Accuracy: 0.9340, Validation Accuracy: 0.9570, Loss: 0.0433\n",
      "Epoch  12 Batch  320/1077 - Train Accuracy: 0.9457, Validation Accuracy: 0.9645, Loss: 0.0425\n",
      "Epoch  12 Batch  384/1077 - Train Accuracy: 0.9633, Validation Accuracy: 0.9656, Loss: 0.0271\n",
      "Epoch  12 Batch  448/1077 - Train Accuracy: 0.9582, Validation Accuracy: 0.9293, Loss: 0.0358\n",
      "Epoch  12 Batch  512/1077 - Train Accuracy: 0.9746, Validation Accuracy: 0.9574, Loss: 0.0232\n",
      "Epoch  12 Batch  576/1077 - Train Accuracy: 0.9626, Validation Accuracy: 0.9545, Loss: 0.0282\n",
      "Epoch  12 Batch  640/1077 - Train Accuracy: 0.9673, Validation Accuracy: 0.9570, Loss: 0.0247\n",
      "Epoch  12 Batch  704/1077 - Train Accuracy: 0.9457, Validation Accuracy: 0.9549, Loss: 0.0318\n",
      "Epoch  12 Batch  768/1077 - Train Accuracy: 0.9723, Validation Accuracy: 0.9482, Loss: 0.0228\n",
      "Epoch  12 Batch  832/1077 - Train Accuracy: 0.9465, Validation Accuracy: 0.9439, Loss: 0.0313\n",
      "Epoch  12 Batch  896/1077 - Train Accuracy: 0.9683, Validation Accuracy: 0.9357, Loss: 0.0256\n",
      "Epoch  12 Batch  960/1077 - Train Accuracy: 0.9658, Validation Accuracy: 0.9403, Loss: 0.0256\n",
      "Epoch  12 Batch 1024/1077 - Train Accuracy: 0.9609, Validation Accuracy: 0.9521, Loss: 0.0278\n",
      "Epoch  13 Batch   64/1077 - Train Accuracy: 0.9676, Validation Accuracy: 0.9151, Loss: 0.0223\n",
      "Epoch  13 Batch  128/1077 - Train Accuracy: 0.9777, Validation Accuracy: 0.9549, Loss: 0.0312\n",
      "Epoch  13 Batch  192/1077 - Train Accuracy: 0.9441, Validation Accuracy: 0.9496, Loss: 0.0285\n",
      "Epoch  13 Batch  256/1077 - Train Accuracy: 0.9441, Validation Accuracy: 0.9595, Loss: 0.0372\n",
      "Epoch  13 Batch  320/1077 - Train Accuracy: 0.9574, Validation Accuracy: 0.9485, Loss: 0.0297\n",
      "Epoch  13 Batch  384/1077 - Train Accuracy: 0.9668, Validation Accuracy: 0.9492, Loss: 0.0262\n",
      "Epoch  13 Batch  448/1077 - Train Accuracy: 0.9484, Validation Accuracy: 0.9435, Loss: 0.0404\n",
      "Epoch  13 Batch  512/1077 - Train Accuracy: 0.9574, Validation Accuracy: 0.9588, Loss: 0.0282\n",
      "Epoch  13 Batch  576/1077 - Train Accuracy: 0.9408, Validation Accuracy: 0.9329, Loss: 0.0322\n",
      "Epoch  13 Batch  640/1077 - Train Accuracy: 0.9617, Validation Accuracy: 0.9521, Loss: 0.0252\n",
      "Epoch  13 Batch  704/1077 - Train Accuracy: 0.9363, Validation Accuracy: 0.9496, Loss: 0.0406\n",
      "Epoch  13 Batch  768/1077 - Train Accuracy: 0.9406, Validation Accuracy: 0.9624, Loss: 0.0310\n",
      "Epoch  13 Batch  832/1077 - Train Accuracy: 0.9594, Validation Accuracy: 0.9300, Loss: 0.0262\n",
      "Epoch  13 Batch  896/1077 - Train Accuracy: 0.9465, Validation Accuracy: 0.9343, Loss: 0.0453\n",
      "Epoch  13 Batch  960/1077 - Train Accuracy: 0.9684, Validation Accuracy: 0.9556, Loss: 0.0226\n",
      "Epoch  13 Batch 1024/1077 - Train Accuracy: 0.9379, Validation Accuracy: 0.9400, Loss: 0.0436\n",
      "Epoch  14 Batch   64/1077 - Train Accuracy: 0.9719, Validation Accuracy: 0.9485, Loss: 0.0199\n",
      "Epoch  14 Batch  128/1077 - Train Accuracy: 0.9691, Validation Accuracy: 0.9435, Loss: 0.0267\n",
      "Epoch  14 Batch  192/1077 - Train Accuracy: 0.9469, Validation Accuracy: 0.9460, Loss: 0.0278\n",
      "Epoch  14 Batch  256/1077 - Train Accuracy: 0.9352, Validation Accuracy: 0.9570, Loss: 0.0385\n",
      "Epoch  14 Batch  320/1077 - Train Accuracy: 0.9582, Validation Accuracy: 0.9545, Loss: 0.0399\n",
      "Epoch  14 Batch  384/1077 - Train Accuracy: 0.9559, Validation Accuracy: 0.9606, Loss: 0.0237\n",
      "Epoch  14 Batch  448/1077 - Train Accuracy: 0.9555, Validation Accuracy: 0.9254, Loss: 0.0275\n",
      "Epoch  14 Batch  512/1077 - Train Accuracy: 0.9773, Validation Accuracy: 0.9528, Loss: 0.0207\n",
      "Epoch  14 Batch  576/1077 - Train Accuracy: 0.9622, Validation Accuracy: 0.9464, Loss: 0.0284\n",
      "Epoch  14 Batch  640/1077 - Train Accuracy: 0.9710, Validation Accuracy: 0.9680, Loss: 0.0227\n",
      "Epoch  14 Batch  704/1077 - Train Accuracy: 0.9508, Validation Accuracy: 0.9677, Loss: 0.0250\n",
      "Epoch  14 Batch  768/1077 - Train Accuracy: 0.9641, Validation Accuracy: 0.9577, Loss: 0.0213\n",
      "Epoch  14 Batch  832/1077 - Train Accuracy: 0.9637, Validation Accuracy: 0.9570, Loss: 0.0188\n",
      "Epoch  14 Batch  896/1077 - Train Accuracy: 0.9342, Validation Accuracy: 0.9471, Loss: 0.0253\n",
      "Epoch  14 Batch  960/1077 - Train Accuracy: 0.9695, Validation Accuracy: 0.9538, Loss: 0.0223\n",
      "Epoch  14 Batch 1024/1077 - Train Accuracy: 0.9359, Validation Accuracy: 0.9613, Loss: 0.0495\n",
      "Epoch  15 Batch   64/1077 - Train Accuracy: 0.9738, Validation Accuracy: 0.9311, Loss: 0.0225\n",
      "Epoch  15 Batch  128/1077 - Train Accuracy: 0.9710, Validation Accuracy: 0.9652, Loss: 0.0287\n",
      "Epoch  15 Batch  192/1077 - Train Accuracy: 0.9578, Validation Accuracy: 0.9439, Loss: 0.0269\n",
      "Epoch  15 Batch  256/1077 - Train Accuracy: 0.9273, Validation Accuracy: 0.9506, Loss: 0.0415\n",
      "Epoch  15 Batch  320/1077 - Train Accuracy: 0.9551, Validation Accuracy: 0.9354, Loss: 0.0348\n",
      "Epoch  15 Batch  384/1077 - Train Accuracy: 0.9672, Validation Accuracy: 0.9506, Loss: 0.0270\n",
      "Epoch  15 Batch  448/1077 - Train Accuracy: 0.9699, Validation Accuracy: 0.9414, Loss: 0.0274\n",
      "Epoch  15 Batch  512/1077 - Train Accuracy: 0.9832, Validation Accuracy: 0.9656, Loss: 0.0186\n",
      "Epoch  15 Batch  576/1077 - Train Accuracy: 0.9675, Validation Accuracy: 0.9510, Loss: 0.0240\n",
      "Epoch  15 Batch  640/1077 - Train Accuracy: 0.9461, Validation Accuracy: 0.9510, Loss: 0.0261\n",
      "Epoch  15 Batch  704/1077 - Train Accuracy: 0.9387, Validation Accuracy: 0.9723, Loss: 0.0284\n",
      "Epoch  15 Batch  768/1077 - Train Accuracy: 0.9742, Validation Accuracy: 0.9606, Loss: 0.0210\n",
      "Epoch  15 Batch  832/1077 - Train Accuracy: 0.9621, Validation Accuracy: 0.9485, Loss: 0.0319\n",
      "Epoch  15 Batch  896/1077 - Train Accuracy: 0.9297, Validation Accuracy: 0.9382, Loss: 0.0331\n",
      "Epoch  15 Batch  960/1077 - Train Accuracy: 0.9710, Validation Accuracy: 0.9517, Loss: 0.0228\n",
      "Epoch  15 Batch 1024/1077 - Train Accuracy: 0.9723, Validation Accuracy: 0.9517, Loss: 0.0309\n",
      "Epoch  16 Batch   64/1077 - Train Accuracy: 0.9844, Validation Accuracy: 0.9478, Loss: 0.0161\n",
      "Epoch  16 Batch  128/1077 - Train Accuracy: 0.9829, Validation Accuracy: 0.9538, Loss: 0.0193\n",
      "Epoch  16 Batch  192/1077 - Train Accuracy: 0.9551, Validation Accuracy: 0.9513, Loss: 0.0236\n",
      "Epoch  16 Batch  256/1077 - Train Accuracy: 0.9453, Validation Accuracy: 0.9467, Loss: 0.0393\n",
      "Epoch  16 Batch  320/1077 - Train Accuracy: 0.9586, Validation Accuracy: 0.9663, Loss: 0.0374\n",
      "Epoch  16 Batch  384/1077 - Train Accuracy: 0.9680, Validation Accuracy: 0.9474, Loss: 0.0271\n",
      "Epoch  16 Batch  448/1077 - Train Accuracy: 0.9605, Validation Accuracy: 0.9134, Loss: 0.0279\n",
      "Epoch  16 Batch  512/1077 - Train Accuracy: 0.9766, Validation Accuracy: 0.9474, Loss: 0.0260\n",
      "Epoch  16 Batch  576/1077 - Train Accuracy: 0.9638, Validation Accuracy: 0.9496, Loss: 0.0226\n",
      "Epoch  16 Batch  640/1077 - Train Accuracy: 0.9602, Validation Accuracy: 0.9489, Loss: 0.0425\n",
      "Epoch  16 Batch  704/1077 - Train Accuracy: 0.9402, Validation Accuracy: 0.9510, Loss: 0.0372\n",
      "Epoch  16 Batch  768/1077 - Train Accuracy: 0.9551, Validation Accuracy: 0.9616, Loss: 0.0260\n",
      "Epoch  16 Batch  832/1077 - Train Accuracy: 0.9773, Validation Accuracy: 0.9538, Loss: 0.0220\n",
      "Epoch  16 Batch  896/1077 - Train Accuracy: 0.9441, Validation Accuracy: 0.9485, Loss: 0.0370\n",
      "Epoch  16 Batch  960/1077 - Train Accuracy: 0.9621, Validation Accuracy: 0.9478, Loss: 0.0310\n",
      "Epoch  16 Batch 1024/1077 - Train Accuracy: 0.9531, Validation Accuracy: 0.9688, Loss: 0.0320\n",
      "Epoch  17 Batch   64/1077 - Train Accuracy: 0.9793, Validation Accuracy: 0.9524, Loss: 0.0191\n",
      "Epoch  17 Batch  128/1077 - Train Accuracy: 0.9866, Validation Accuracy: 0.9513, Loss: 0.0204\n",
      "Epoch  17 Batch  192/1077 - Train Accuracy: 0.9645, Validation Accuracy: 0.9577, Loss: 0.0221\n",
      "Epoch  17 Batch  256/1077 - Train Accuracy: 0.9402, Validation Accuracy: 0.9567, Loss: 0.0348\n",
      "Epoch  17 Batch  320/1077 - Train Accuracy: 0.9637, Validation Accuracy: 0.9645, Loss: 0.0360\n",
      "Epoch  17 Batch  384/1077 - Train Accuracy: 0.9582, Validation Accuracy: 0.9602, Loss: 0.0214\n",
      "Epoch  17 Batch  448/1077 - Train Accuracy: 0.9563, Validation Accuracy: 0.9382, Loss: 0.0231\n",
      "Epoch  17 Batch  512/1077 - Train Accuracy: 0.9836, Validation Accuracy: 0.9648, Loss: 0.0167\n",
      "Epoch  17 Batch  576/1077 - Train Accuracy: 0.9605, Validation Accuracy: 0.9485, Loss: 0.0285\n",
      "Epoch  17 Batch  640/1077 - Train Accuracy: 0.9397, Validation Accuracy: 0.9560, Loss: 0.0284\n",
      "Epoch  17 Batch  704/1077 - Train Accuracy: 0.9512, Validation Accuracy: 0.9645, Loss: 0.0304\n",
      "Epoch  17 Batch  768/1077 - Train Accuracy: 0.9469, Validation Accuracy: 0.9794, Loss: 0.0252\n",
      "Epoch  17 Batch  832/1077 - Train Accuracy: 0.9512, Validation Accuracy: 0.9471, Loss: 0.0312\n",
      "Epoch  17 Batch  896/1077 - Train Accuracy: 0.9626, Validation Accuracy: 0.9549, Loss: 0.0263\n",
      "Epoch  17 Batch  960/1077 - Train Accuracy: 0.9617, Validation Accuracy: 0.9482, Loss: 0.0250\n",
      "Epoch  17 Batch 1024/1077 - Train Accuracy: 0.9406, Validation Accuracy: 0.9567, Loss: 0.0424\n",
      "Epoch  18 Batch   64/1077 - Train Accuracy: 0.9805, Validation Accuracy: 0.9421, Loss: 0.0176\n",
      "Epoch  18 Batch  128/1077 - Train Accuracy: 0.9725, Validation Accuracy: 0.9485, Loss: 0.0178\n",
      "Epoch  18 Batch  192/1077 - Train Accuracy: 0.9586, Validation Accuracy: 0.9631, Loss: 0.0233\n",
      "Epoch  18 Batch  256/1077 - Train Accuracy: 0.9250, Validation Accuracy: 0.9577, Loss: 0.0390\n",
      "Epoch  18 Batch  320/1077 - Train Accuracy: 0.9559, Validation Accuracy: 0.9616, Loss: 0.0370\n",
      "Epoch  18 Batch  384/1077 - Train Accuracy: 0.9586, Validation Accuracy: 0.9577, Loss: 0.0257\n",
      "Epoch  18 Batch  448/1077 - Train Accuracy: 0.9484, Validation Accuracy: 0.9453, Loss: 0.0335\n",
      "Epoch  18 Batch  512/1077 - Train Accuracy: 0.9715, Validation Accuracy: 0.9414, Loss: 0.0252\n",
      "Epoch  18 Batch  576/1077 - Train Accuracy: 0.9650, Validation Accuracy: 0.9549, Loss: 0.0218\n",
      "Epoch  18 Batch  640/1077 - Train Accuracy: 0.9647, Validation Accuracy: 0.9588, Loss: 0.0209\n",
      "Epoch  18 Batch  704/1077 - Train Accuracy: 0.9324, Validation Accuracy: 0.9673, Loss: 0.0342\n",
      "Epoch  18 Batch  768/1077 - Train Accuracy: 0.9590, Validation Accuracy: 0.9602, Loss: 0.0192\n",
      "Epoch  18 Batch  832/1077 - Train Accuracy: 0.9496, Validation Accuracy: 0.9620, Loss: 0.0287\n",
      "Epoch  18 Batch  896/1077 - Train Accuracy: 0.9453, Validation Accuracy: 0.9471, Loss: 0.0259\n",
      "Epoch  18 Batch  960/1077 - Train Accuracy: 0.9691, Validation Accuracy: 0.9425, Loss: 0.0235\n",
      "Epoch  18 Batch 1024/1077 - Train Accuracy: 0.9449, Validation Accuracy: 0.9531, Loss: 0.0341\n",
      "Epoch  19 Batch   64/1077 - Train Accuracy: 0.9750, Validation Accuracy: 0.9389, Loss: 0.0158\n",
      "Epoch  19 Batch  128/1077 - Train Accuracy: 0.9844, Validation Accuracy: 0.9556, Loss: 0.0250\n",
      "Epoch  19 Batch  192/1077 - Train Accuracy: 0.9570, Validation Accuracy: 0.9542, Loss: 0.0268\n",
      "Epoch  19 Batch  256/1077 - Train Accuracy: 0.9398, Validation Accuracy: 0.9588, Loss: 0.0375\n",
      "Epoch  19 Batch  320/1077 - Train Accuracy: 0.9492, Validation Accuracy: 0.9702, Loss: 0.0374\n",
      "Epoch  19 Batch  384/1077 - Train Accuracy: 0.9711, Validation Accuracy: 0.9609, Loss: 0.0171\n",
      "Epoch  19 Batch  448/1077 - Train Accuracy: 0.9512, Validation Accuracy: 0.9411, Loss: 0.0302\n",
      "Epoch  19 Batch  512/1077 - Train Accuracy: 0.9715, Validation Accuracy: 0.9659, Loss: 0.0220\n",
      "Epoch  19 Batch  576/1077 - Train Accuracy: 0.9552, Validation Accuracy: 0.9567, Loss: 0.0212\n",
      "Epoch  19 Batch  640/1077 - Train Accuracy: 0.9568, Validation Accuracy: 0.9474, Loss: 0.0254\n",
      "Epoch  19 Batch  704/1077 - Train Accuracy: 0.9316, Validation Accuracy: 0.9659, Loss: 0.0329\n",
      "Epoch  19 Batch  768/1077 - Train Accuracy: 0.9492, Validation Accuracy: 0.9723, Loss: 0.0207\n",
      "Epoch  19 Batch  832/1077 - Train Accuracy: 0.9578, Validation Accuracy: 0.9556, Loss: 0.0225\n",
      "Epoch  19 Batch  896/1077 - Train Accuracy: 0.9527, Validation Accuracy: 0.9492, Loss: 0.0217\n",
      "Epoch  19 Batch  960/1077 - Train Accuracy: 0.9706, Validation Accuracy: 0.9407, Loss: 0.0281\n",
      "Epoch  19 Batch 1024/1077 - Train Accuracy: 0.9586, Validation Accuracy: 0.9478, Loss: 0.0310\n",
      "Model Trained and Saved\n"
     ]
    }
   ],
   "source": [
    "\"\"\"\n",
    "DON'T MODIFY ANYTHING IN THIS CELL\n",
    "\"\"\"\n",
    "def get_accuracy(target, logits):\n",
    "    \"\"\"\n",
    "    Calculate accuracy\n",
    "    \"\"\"\n",
    "    max_seq = max(target.shape[1], logits.shape[1])\n",
    "    if max_seq - target.shape[1]:\n",
    "        target = np.pad(\n",
    "            target,\n",
    "            [(0,0),(0,max_seq - target.shape[1])],\n",
    "            'constant')\n",
    "    if max_seq - logits.shape[1]:\n",
    "        logits = np.pad(\n",
    "            logits,\n",
    "            [(0,0),(0,max_seq - logits.shape[1])],\n",
    "            'constant')\n",
    "\n",
    "    return np.mean(np.equal(target, logits))\n",
    "\n",
    "# Split data to training and validation sets\n",
    "train_source = source_int_text[batch_size:]\n",
    "train_target = target_int_text[batch_size:]\n",
    "valid_source = source_int_text[:batch_size]\n",
    "valid_target = target_int_text[:batch_size]\n",
    "(valid_sources_batch, valid_targets_batch, valid_sources_lengths, valid_targets_lengths ) = next(get_batches(valid_source,\n",
    "                                                                                                             valid_target,\n",
    "                                                                                                             batch_size,\n",
    "                                                                                                             source_vocab_to_int['<PAD>'],\n",
    "                                                                                                             target_vocab_to_int['<PAD>']))                                                                                                  \n",
    "with tf.Session(graph=train_graph) as sess:\n",
    "    sess.run(tf.global_variables_initializer())\n",
    "\n",
    "    for epoch_i in range(epochs):\n",
    "        for batch_i, (source_batch, target_batch, sources_lengths, targets_lengths) in enumerate(\n",
    "                get_batches(train_source, train_target, batch_size,\n",
    "                            source_vocab_to_int['<PAD>'],\n",
    "                            target_vocab_to_int['<PAD>'])):\n",
    "\n",
    "            _, loss = sess.run(\n",
    "                [train_op, cost],\n",
    "                {input_data: source_batch,\n",
    "                 targets: target_batch,\n",
    "                 lr: learning_rate,\n",
    "                 target_sequence_length: targets_lengths,\n",
    "                 source_sequence_length: sources_lengths,\n",
    "                 keep_prob: keep_probability})\n",
    "\n",
    "\n",
    "            if batch_i % display_step == 0 and batch_i > 0:\n",
    "\n",
    "\n",
    "                batch_train_logits = sess.run(\n",
    "                    inference_logits,\n",
    "                    {input_data: source_batch,\n",
    "                     source_sequence_length: sources_lengths,\n",
    "                     target_sequence_length: targets_lengths,\n",
    "                     keep_prob: 1.0})\n",
    "\n",
    "\n",
    "                batch_valid_logits = sess.run(\n",
    "                    inference_logits,\n",
    "                    {input_data: valid_sources_batch,\n",
    "                     source_sequence_length: valid_sources_lengths,\n",
    "                     target_sequence_length: valid_targets_lengths,\n",
    "                     keep_prob: 1.0})\n",
    "\n",
    "                train_acc = get_accuracy(target_batch, batch_train_logits)\n",
    "\n",
    "                valid_acc = get_accuracy(valid_targets_batch, batch_valid_logits)\n",
    "\n",
    "                print('Epoch {:>3} Batch {:>4}/{} - Train Accuracy: {:>6.4f}, Validation Accuracy: {:>6.4f}, Loss: {:>6.4f}'\n",
    "                      .format(epoch_i, batch_i, len(source_int_text) // batch_size, train_acc, valid_acc, loss))\n",
    "\n",
    "    # Save Model\n",
    "    saver = tf.train.Saver()\n",
    "    saver.save(sess, save_path)\n",
    "    print('Model Trained and Saved')"
   ]
  },
  {
   "cell_type": "markdown",
   "metadata": {
    "deletable": true,
    "editable": true
   },
   "source": [
    "### Save Parameters\n",
    "Save the `batch_size` and `save_path` parameters for inference."
   ]
  },
  {
   "cell_type": "code",
   "execution_count": 53,
   "metadata": {
    "collapsed": true,
    "deletable": true,
    "editable": true
   },
   "outputs": [],
   "source": [
    "\"\"\"\n",
    "DON'T MODIFY ANYTHING IN THIS CELL\n",
    "\"\"\"\n",
    "# Save parameters for checkpoint\n",
    "helper.save_params(save_path)"
   ]
  },
  {
   "cell_type": "markdown",
   "metadata": {
    "deletable": true,
    "editable": true
   },
   "source": [
    "# Checkpoint"
   ]
  },
  {
   "cell_type": "code",
   "execution_count": 54,
   "metadata": {
    "collapsed": true,
    "deletable": true,
    "editable": true
   },
   "outputs": [],
   "source": [
    "\"\"\"\n",
    "DON'T MODIFY ANYTHING IN THIS CELL\n",
    "\"\"\"\n",
    "import tensorflow as tf\n",
    "import numpy as np\n",
    "import helper\n",
    "import problem_unittests as tests\n",
    "\n",
    "_, (source_vocab_to_int, target_vocab_to_int), (source_int_to_vocab, target_int_to_vocab) = helper.load_preprocess()\n",
    "load_path = helper.load_params()"
   ]
  },
  {
   "cell_type": "markdown",
   "metadata": {
    "deletable": true,
    "editable": true
   },
   "source": [
    "## Sentence to Sequence\n",
    "To feed a sentence into the model for translation, you first need to preprocess it.  Implement the function `sentence_to_seq()` to preprocess new sentences.\n",
    "\n",
    "- Convert the sentence to lowercase\n",
    "- Convert words into ids using `vocab_to_int`\n",
    " - Convert words not in the vocabulary, to the `<UNK>` word id."
   ]
  },
  {
   "cell_type": "code",
   "execution_count": 47,
   "metadata": {
    "collapsed": false,
    "deletable": true,
    "editable": true
   },
   "outputs": [
    {
     "name": "stdout",
     "output_type": "stream",
     "text": [
      "Tests Passed\n"
     ]
    }
   ],
   "source": [
    "def sentence_to_seq(sentence, vocab_to_int):\n",
    "    \"\"\"\n",
    "    Convert a sentence to a sequence of ids\n",
    "    :param sentence: String\n",
    "    :param vocab_to_int: Dictionary to go from the words to an id\n",
    "    :return: List of word ids\n",
    "    \"\"\"\n",
    "    # TODO: Implement Function\n",
    "    # convert to lowercase\n",
    "    sentence = sentence.lower()\n",
    "    \n",
    "    # convert words to ids, using vocab_to_int\n",
    "    sequence = [vocab_to_int.get(word, vocab_to_int['<UNK>']) for word in sentence.split()]\n",
    "    return sequence\n",
    "\n",
    "\n",
    "\"\"\"\n",
    "DON'T MODIFY ANYTHING IN THIS CELL THAT IS BELOW THIS LINE\n",
    "\"\"\"\n",
    "tests.test_sentence_to_seq(sentence_to_seq)"
   ]
  },
  {
   "cell_type": "markdown",
   "metadata": {
    "deletable": true,
    "editable": true
   },
   "source": [
    "## Translate\n",
    "This will translate `translate_sentence` from English to French."
   ]
  },
  {
   "cell_type": "code",
   "execution_count": 55,
   "metadata": {
    "collapsed": false,
    "deletable": true,
    "editable": true
   },
   "outputs": [
    {
     "name": "stdout",
     "output_type": "stream",
     "text": [
      "INFO:tensorflow:Restoring parameters from checkpoints/dev\n",
      "Input\n",
      "  Word Ids:      [109, 212, 157, 116, 10, 129, 180]\n",
      "  English Words: ['he', 'saw', 'a', 'old', 'yellow', 'truck', '.']\n",
      "\n",
      "Prediction\n",
      "  Word Ids:      [126, 333, 96, 163, 331, 194, 111, 80, 1]\n",
      "  French Words: il a vu une nouvelle voiture blanche . <EOS>\n"
     ]
    }
   ],
   "source": [
    "translate_sentence = 'he saw a old yellow truck .'\n",
    "\n",
    "\n",
    "\"\"\"\n",
    "DON'T MODIFY ANYTHING IN THIS CELL\n",
    "\"\"\"\n",
    "translate_sentence = sentence_to_seq(translate_sentence, source_vocab_to_int)\n",
    "\n",
    "loaded_graph = tf.Graph()\n",
    "with tf.Session(graph=loaded_graph) as sess:\n",
    "    # Load saved model\n",
    "    loader = tf.train.import_meta_graph(load_path + '.meta')\n",
    "    loader.restore(sess, load_path)\n",
    "\n",
    "    input_data = loaded_graph.get_tensor_by_name('input:0')\n",
    "    logits = loaded_graph.get_tensor_by_name('predictions:0')\n",
    "    target_sequence_length = loaded_graph.get_tensor_by_name('target_sequence_length:0')\n",
    "    source_sequence_length = loaded_graph.get_tensor_by_name('source_sequence_length:0')\n",
    "    keep_prob = loaded_graph.get_tensor_by_name('keep_prob:0')\n",
    "\n",
    "    translate_logits = sess.run(logits, {input_data: [translate_sentence]*batch_size,\n",
    "                                         target_sequence_length: [len(translate_sentence)*2]*batch_size,\n",
    "                                         source_sequence_length: [len(translate_sentence)]*batch_size,\n",
    "                                         keep_prob: 1.0})[0]\n",
    "\n",
    "print('Input')\n",
    "print('  Word Ids:      {}'.format([i for i in translate_sentence]))\n",
    "print('  English Words: {}'.format([source_int_to_vocab[i] for i in translate_sentence]))\n",
    "\n",
    "print('\\nPrediction')\n",
    "print('  Word Ids:      {}'.format([i for i in translate_logits]))\n",
    "print('  French Words: {}'.format(\" \".join([target_int_to_vocab[i] for i in translate_logits])))\n"
   ]
  },
  {
   "cell_type": "markdown",
   "metadata": {
    "deletable": true,
    "editable": true
   },
   "source": [
    "## Imperfect Translation\n",
    "You might notice that some sentences translate better than others.  Since the dataset you're using only has a vocabulary of 227 English words of the thousands that you use, you're only going to see good results using these words.  For this project, you don't need a perfect translation. However, if you want to create a better translation model, you'll need better data.\n",
    "\n",
    "You can train on the [WMT10 French-English corpus](http://www.statmt.org/wmt10/training-giga-fren.tar).  This dataset has more vocabulary and richer in topics discussed.  However, this will take you days to train, so make sure you've a GPU and the neural network is performing well on dataset we provided.  Just make sure you play with the WMT10 corpus after you've submitted this project.\n",
    "## Submitting This Project\n",
    "When submitting this project, make sure to run all the cells before saving the notebook. Save the notebook file as \"dlnd_language_translation.ipynb\" and save it as a HTML file under \"File\" -> \"Download as\". Include the \"helper.py\" and \"problem_unittests.py\" files in your submission."
   ]
  }
 ],
 "metadata": {
  "anaconda-cloud": {},
  "kernelspec": {
   "display_name": "Python 3",
   "language": "python",
   "name": "python3"
  },
  "language_info": {
   "codemirror_mode": {
    "name": "ipython",
    "version": 3
   },
   "file_extension": ".py",
   "mimetype": "text/x-python",
   "name": "python",
   "nbconvert_exporter": "python",
   "pygments_lexer": "ipython3",
   "version": "3.6.2"
  }
 },
 "nbformat": 4,
 "nbformat_minor": 1
}
