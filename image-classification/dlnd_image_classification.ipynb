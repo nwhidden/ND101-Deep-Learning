{
 "cells": [
  {
   "cell_type": "markdown",
   "metadata": {
    "collapsed": true
   },
   "source": [
    "# Image Classification\n",
    "In this project, you'll classify images from the [CIFAR-10 dataset](https://www.cs.toronto.edu/~kriz/cifar.html).  The dataset consists of airplanes, dogs, cats, and other objects. You'll preprocess the images, then train a convolutional neural network on all the samples. The images need to be normalized and the labels need to be one-hot encoded.  You'll get to apply what you learned and build a convolutional, max pooling, dropout, and fully connected layers.  At the end, you'll get to see your neural network's predictions on the sample images.\n",
    "## Get the Data\n",
    "Run the following cell to download the [CIFAR-10 dataset for python](https://www.cs.toronto.edu/~kriz/cifar-10-python.tar.gz)."
   ]
  },
  {
   "cell_type": "code",
   "execution_count": 1,
   "metadata": {},
   "outputs": [
    {
     "name": "stdout",
     "output_type": "stream",
     "text": [
      "All files found!\n"
     ]
    }
   ],
   "source": [
    "\"\"\"\n",
    "DON'T MODIFY ANYTHING IN THIS CELL THAT IS BELOW THIS LINE\n",
    "\"\"\"\n",
    "from urllib.request import urlretrieve\n",
    "from os.path import isfile, isdir\n",
    "from tqdm import tqdm\n",
    "import problem_unittests as tests\n",
    "import tarfile\n",
    "\n",
    "cifar10_dataset_folder_path = 'cifar-10-batches-py'\n",
    "\n",
    "# Use Floyd's cifar-10 dataset if present\n",
    "floyd_cifar10_location = '/input/cifar-10/python.tar.gz'\n",
    "if isfile(floyd_cifar10_location):\n",
    "    tar_gz_path = floyd_cifar10_location\n",
    "else:\n",
    "    tar_gz_path = 'cifar-10-python.tar.gz'\n",
    "\n",
    "class DLProgress(tqdm):\n",
    "    last_block = 0\n",
    "\n",
    "    def hook(self, block_num=1, block_size=1, total_size=None):\n",
    "        self.total = total_size\n",
    "        self.update((block_num - self.last_block) * block_size)\n",
    "        self.last_block = block_num\n",
    "\n",
    "if not isfile(tar_gz_path):\n",
    "    with DLProgress(unit='B', unit_scale=True, miniters=1, desc='CIFAR-10 Dataset') as pbar:\n",
    "        urlretrieve(\n",
    "            'https://www.cs.toronto.edu/~kriz/cifar-10-python.tar.gz',\n",
    "            tar_gz_path,\n",
    "            pbar.hook)\n",
    "\n",
    "if not isdir(cifar10_dataset_folder_path):\n",
    "    with tarfile.open(tar_gz_path) as tar:\n",
    "        tar.extractall()\n",
    "        tar.close()\n",
    "\n",
    "\n",
    "tests.test_folder_path(cifar10_dataset_folder_path)"
   ]
  },
  {
   "cell_type": "markdown",
   "metadata": {},
   "source": [
    "## Explore the Data\n",
    "The dataset is broken into batches to prevent your machine from running out of memory.  The CIFAR-10 dataset consists of 5 batches, named `data_batch_1`, `data_batch_2`, etc.. Each batch contains the labels and images that are one of the following:\n",
    "* airplane\n",
    "* automobile\n",
    "* bird\n",
    "* cat\n",
    "* deer\n",
    "* dog\n",
    "* frog\n",
    "* horse\n",
    "* ship\n",
    "* truck\n",
    "\n",
    "Understanding a dataset is part of making predictions on the data.  Play around with the code cell below by changing the `batch_id` and `sample_id`. The `batch_id` is the id for a batch (1-5). The `sample_id` is the id for a image and label pair in the batch.\n",
    "\n",
    "Ask yourself \"What are all possible labels?\", \"What is the range of values for the image data?\", \"Are the labels in order or random?\".  Answers to questions like these will help you preprocess the data and end up with better predictions."
   ]
  },
  {
   "cell_type": "code",
   "execution_count": 15,
   "metadata": {},
   "outputs": [
    {
     "name": "stdout",
     "output_type": "stream",
     "text": [
      "\n",
      "Stats of batch 1:\n",
      "Samples: 10000\n",
      "Label Counts: {0: 1005, 1: 974, 2: 1032, 3: 1016, 4: 999, 5: 937, 6: 1030, 7: 1001, 8: 1025, 9: 981}\n",
      "First 20 Labels: [6, 9, 9, 4, 1, 1, 2, 7, 8, 3, 4, 7, 7, 2, 9, 9, 9, 3, 2, 6]\n",
      "\n",
      "Example of Image 0:\n",
      "Image - Min Value: 0 Max Value: 255\n",
      "Image - Shape: (32, 32, 3)\n",
      "Label - Label Id: 6 Name: frog\n"
     ]
    },
    {
     "data": {
      "image/png": "[encoded data removed]",
      "text/plain": [
       "<matplotlib.figure.Figure at 0x7f42357bf828>"
      ]
     },
     "metadata": {
      "image/png": {
       "height": 250,
       "width": 253
      }
     },
     "output_type": "display_data"
    }
   ],
   "source": [
    "%matplotlib inline\n",
    "%config InlineBackend.figure_format = 'retina'\n",
    "\n",
    "import helper\n",
    "import numpy as np\n",
    "\n",
    "# Explore the dataset\n",
    "batch_id = 1\n",
    "sample_id = 0\n",
    "helper.display_stats(cifar10_dataset_folder_path, batch_id, sample_id)"
   ]
  },
  {
   "cell_type": "markdown",
   "metadata": {},
   "source": [
    "## Implement Preprocess Functions\n",
    "### Normalize\n",
    "In the cell below, implement the `normalize` function to take in image data, `x`, and return it as a normalized Numpy array. The values should be in the range of 0 to 1, inclusive.  The return object should be the same shape as `x`."
   ]
  },
  {
   "cell_type": "code",
   "execution_count": 17,
   "metadata": {},
   "outputs": [
    {
     "name": "stdout",
     "output_type": "stream",
     "text": [
      "Tests Passed\n"
     ]
    }
   ],
   "source": [
    "def normalize(x):\n",
    "    \"\"\"\n",
    "    Normalize a list of sample image data in the range of 0 to 1\n",
    "    : x: List of image data.  The image shape is (32, 32, 3)\n",
    "    : return: Numpy array of normalize data\n",
    "    \"\"\"\n",
    "    \n",
    "    return (255 - x) / 255\n",
    "\n",
    "\n",
    "\"\"\"\n",
    "DON'T MODIFY ANYTHING IN THIS CELL THAT IS BELOW THIS LINE\n",
    "\"\"\"\n",
    "tests.test_normalize(normalize)"
   ]
  },
  {
   "cell_type": "markdown",
   "metadata": {},
   "source": [
    "### One-hot encode\n",
    "Just like the previous code cell, you'll be implementing a function for preprocessing.  This time, you'll implement the `one_hot_encode` function. The input, `x`, are a list of labels.  Implement the function to return the list of labels as One-Hot encoded Numpy array.  The possible values for labels are 0 to 9. The one-hot encoding function should return the same encoding for each value between each call to `one_hot_encode`.  Make sure to save the map of encodings outside the function.\n",
    "\n",
    "Hint: Don't reinvent the wheel."
   ]
  },
  {
   "cell_type": "code",
   "execution_count": 34,
   "metadata": {},
   "outputs": [
    {
     "name": "stdout",
     "output_type": "stream",
     "text": [
      "Tests Passed\n"
     ]
    }
   ],
   "source": [
    "from sklearn.preprocessing import OneHotEncoder\n",
    "import pandas as pd\n",
    "def one_hot_encode(x):\n",
    "    \"\"\"\n",
    "    One hot encode a list of sample labels. Return a one-hot encoded vector for each label.\n",
    "    : x: List of sample Labels\n",
    "    : return: Numpy array of one-hot encoded labels\n",
    "    \"\"\"\n",
    "    # TODO: Implement Function\n",
    "    x_df = pd.DataFrame(x)\n",
    "    enc = OneHotEncoder(n_values = 10)\n",
    "    return enc.fit_transform(x_df).toarray()\n",
    "    \n",
    "\n",
    "\"\"\"\n",
    "DON'T MODIFY ANYTHING IN THIS CELL THAT IS BELOW THIS LINE\n",
    "\"\"\"\n",
    "tests.test_one_hot_encode(one_hot_encode)"
   ]
  },
  {
   "cell_type": "markdown",
   "metadata": {},
   "source": [
    "### Randomize Data\n",
    "As you saw from exploring the data above, the order of the samples are randomized.  It doesn't hurt to randomize it again, but you don't need to for this dataset."
   ]
  },
  {
   "cell_type": "markdown",
   "metadata": {},
   "source": [
    "## Preprocess all the data and save it\n",
    "Running the code cell below will preprocess all the CIFAR-10 data and save it to file. The code below also uses 10% of the training data for validation."
   ]
  },
  {
   "cell_type": "code",
   "execution_count": 35,
   "metadata": {
    "collapsed": true
   },
   "outputs": [],
   "source": [
    "\"\"\"\n",
    "DON'T MODIFY ANYTHING IN THIS CELL\n",
    "\"\"\"\n",
    "# Preprocess Training, Validation, and Testing Data\n",
    "helper.preprocess_and_save_data(cifar10_dataset_folder_path, normalize, one_hot_encode)"
   ]
  },
  {
   "cell_type": "markdown",
   "metadata": {},
   "source": [
    "# Check Point\n",
    "This is your first checkpoint.  If you ever decide to come back to this notebook or have to restart the notebook, you can start from here.  The preprocessed data has been saved to disk."
   ]
  },
  {
   "cell_type": "code",
   "execution_count": 36,
   "metadata": {
    "collapsed": true
   },
   "outputs": [],
   "source": [
    "\"\"\"\n",
    "DON'T MODIFY ANYTHING IN THIS CELL\n",
    "\"\"\"\n",
    "import pickle\n",
    "import problem_unittests as tests\n",
    "import helper\n",
    "\n",
    "# Load the Preprocessed Validation data\n",
    "valid_features, valid_labels = pickle.load(open('preprocess_validation.p', mode='rb'))"
   ]
  },
  {
   "cell_type": "markdown",
   "metadata": {},
   "source": [
    "## Build the network\n",
    "For the neural network, you'll build each layer into a function.  Most of the code you've seen has been outside of functions. To test your code more thoroughly, we require that you put each layer in a function.  This allows us to give you better feedback and test for simple mistakes using our unittests before you submit your project.\n",
    "\n",
    ">**Note:** If you're finding it hard to dedicate enough time for this course each week, we've provided a small shortcut to this part of the project. In the next couple of problems, you'll have the option to use classes from the [TensorFlow Layers](https://www.tensorflow.org/api_docs/python/tf/layers) or [TensorFlow Layers (contrib)](https://www.tensorflow.org/api_guides/python/contrib.layers) packages to build each layer, except the layers you build in the \"Convolutional and Max Pooling Layer\" section.  TF Layers is similar to Keras's and TFLearn's abstraction to layers, so it's easy to pickup.\n",
    "\n",
    ">However, if you would like to get the most out of this course, try to solve all the problems _without_ using anything from the TF Layers packages. You **can** still use classes from other packages that happen to have the same name as ones you find in TF Layers! For example, instead of using the TF Layers version of the `conv2d` class, [tf.layers.conv2d](https://www.tensorflow.org/api_docs/python/tf/layers/conv2d), you would want to use the TF Neural Network version of `conv2d`, [tf.nn.conv2d](https://www.tensorflow.org/api_docs/python/tf/nn/conv2d). \n",
    "\n",
    "Let's begin!\n",
    "\n",
    "### Input\n",
    "The neural network needs to read the image data, one-hot encoded labels, and dropout keep probability. Implement the following functions\n",
    "* Implement `neural_net_image_input`\n",
    " * Return a [TF Placeholder](https://www.tensorflow.org/api_docs/python/tf/placeholder)\n",
    " * Set the shape using `image_shape` with batch size set to `None`.\n",
    " * Name the TensorFlow placeholder \"x\" using the TensorFlow `name` parameter in the [TF Placeholder](https://www.tensorflow.org/api_docs/python/tf/placeholder).\n",
    "* Implement `neural_net_label_input`\n",
    " * Return a [TF Placeholder](https://www.tensorflow.org/api_docs/python/tf/placeholder)\n",
    " * Set the shape using `n_classes` with batch size set to `None`.\n",
    " * Name the TensorFlow placeholder \"y\" using the TensorFlow `name` parameter in the [TF Placeholder](https://www.tensorflow.org/api_docs/python/tf/placeholder).\n",
    "* Implement `neural_net_keep_prob_input`\n",
    " * Return a [TF Placeholder](https://www.tensorflow.org/api_docs/python/tf/placeholder) for dropout keep probability.\n",
    " * Name the TensorFlow placeholder \"keep_prob\" using the TensorFlow `name` parameter in the [TF Placeholder](https://www.tensorflow.org/api_docs/python/tf/placeholder).\n",
    "\n",
    "These names will be used at the end of the project to load your saved model.\n",
    "\n",
    "Note: `None` for shapes in TensorFlow allow for a dynamic size."
   ]
  },
  {
   "cell_type": "code",
   "execution_count": 44,
   "metadata": {},
   "outputs": [
    {
     "name": "stdout",
     "output_type": "stream",
     "text": [
      "(32, 32, 3)\n",
      "Image Input Tests Passed.\n",
      "10\n",
      "Label Input Tests Passed.\n",
      "Keep Prob Tests Passed.\n"
     ]
    }
   ],
   "source": [
    "import tensorflow as tf\n",
    "\n",
    "def neural_net_image_input(image_shape):\n",
    "    \"\"\"\n",
    "    Return a Tensor for a batch of image input\n",
    "    : image_shape: Shape of the images\n",
    "    : return: Tensor for image input.\n",
    "    \"\"\"\n",
    "    # TODO: Implement Function\n",
    "    return tf.placeholder(tf.float32, shape = (None, image_shape[0], image_shape[1], image_shape[2]), name = 'x')\n",
    "\n",
    "\n",
    "def neural_net_label_input(n_classes):\n",
    "    \"\"\"\n",
    "    Return a Tensor for a batch of label input\n",
    "    : n_classes: Number of classes\n",
    "    : return: Tensor for label input.\n",
    "    \"\"\"\n",
    "    # TODO: Implement Function\n",
    "    \n",
    "    return tf.placeholder(tf.float32, shape = (None, n_classes), name = 'y')\n",
    "\n",
    "\n",
    "def neural_net_keep_prob_input():\n",
    "    \"\"\"\n",
    "    Return a Tensor for keep probability\n",
    "    : return: Tensor for keep probability.\n",
    "    \"\"\"\n",
    "    # TODO: Implement Function\n",
    "    return tf.placeholder(tf.float32, name = 'keep_prob')\n",
    "\n",
    "\n",
    "\"\"\"\n",
    "DON'T MODIFY ANYTHING IN THIS CELL THAT IS BELOW THIS LINE\n",
    "\"\"\"\n",
    "tf.reset_default_graph()\n",
    "tests.test_nn_image_inputs(neural_net_image_input)\n",
    "tests.test_nn_label_inputs(neural_net_label_input)\n",
    "tests.test_nn_keep_prob_inputs(neural_net_keep_prob_input)"
   ]
  },
  {
   "cell_type": "markdown",
   "metadata": {},
   "source": [
    "### Convolution and Max Pooling Layer\n",
    "Convolution layers have a lot of success with images. For this code cell, you should implement the function `conv2d_maxpool` to apply convolution then max pooling:\n",
    "* Create the weight and bias using `conv_ksize`, `conv_num_outputs` and the shape of `x_tensor`.\n",
    "* Apply a convolution to `x_tensor` using weight and `conv_strides`.\n",
    " * We recommend you use same padding, but you're welcome to use any padding.\n",
    "* Add bias\n",
    "* Add a nonlinear activation to the convolution.\n",
    "* Apply Max Pooling using `pool_ksize` and `pool_strides`.\n",
    " * We recommend you use same padding, but you're welcome to use any padding.\n",
    "\n",
    "**Note:** You **can't** use [TensorFlow Layers](https://www.tensorflow.org/api_docs/python/tf/layers) or [TensorFlow Layers (contrib)](https://www.tensorflow.org/api_guides/python/contrib.layers) for **this** layer, but you can still use TensorFlow's [Neural Network](https://www.tensorflow.org/api_docs/python/tf/nn) package. You may still use the shortcut option for all the **other** layers."
   ]
  },
  {
   "cell_type": "code",
   "execution_count": 58,
   "metadata": {},
   "outputs": [
    {
     "name": "stdout",
     "output_type": "stream",
     "text": [
      "Tensor(\"Placeholder_12:0\", shape=(?, 32, 32, 5), dtype=float32)\n",
      "10\n",
      "(2, 2)\n",
      "(4, 4)\n",
      "(2, 2)\n",
      "(2, 2)\n",
      "Tests Passed\n"
     ]
    }
   ],
   "source": [
    "def conv2d_maxpool(x_tensor, conv_num_outputs, conv_ksize, conv_strides, pool_ksize, pool_strides):\n",
    "    \"\"\"\n",
    "    Apply convolution then max pooling to x_tensor\n",
    "    :param x_tensor: TensorFlow Tensor\n",
    "    :param conv_num_outputs: Number of outputs for the convolutional layer\n",
    "    :param conv_ksize: kernal size 2-D Tuple for the convolutional layer\n",
    "    :param conv_strides: Stride 2-D Tuple for convolution\n",
    "    :param pool_ksize: kernal size 2-D Tuple for pool\n",
    "    :param pool_strides: Stride 2-D Tuple for pool\n",
    "    : return: A tensor that represents convolution and max pooling of x_tensor\n",
    "    \"\"\"\n",
    "    # TODO: Implement Function\n",
    "    #print(x_tensor)\n",
    "    #print(conv_num_outputs)\n",
    "    #print(conv_ksize)\n",
    "    #print(conv_strides)\n",
    "    #print(pool_ksize)\n",
    "    #print(pool_strides)\n",
    "    input_channel_depth = int(x_tensor.get_shape()[3])\n",
    "    weight = tf.Variable(tf.truncated_normal([conv_ksize[0], conv_ksize[1], input_channel_depth, conv_num_outputs],mean=0.0, stddev=0.1))\n",
    "    bias = tf.Variable(tf.zeros(conv_num_outputs))\n",
    "    layer = tf.nn.conv2d(x_tensor, weight, strides=[1,conv_strides[0],conv_strides[1],1], padding='SAME')\n",
    "    layer = tf.nn.bias_add(layer,bias)\n",
    "    layer = tf.nn.relu(layer)\n",
    "    return tf.nn.max_pool(layer, ksize=[1,pool_ksize[0],pool_ksize[1],1], strides=[1,pool_strides[0],pool_strides[1],1], padding='SAME')\n",
    "\n",
    "\n",
    "\"\"\"\n",
    "DON'T MODIFY ANYTHING IN THIS CELL THAT IS BELOW THIS LINE\n",
    "\"\"\"\n",
    "tests.test_con_pool(conv2d_maxpool)"
   ]
  },
  {
   "cell_type": "markdown",
   "metadata": {},
   "source": [
    "### Flatten Layer\n",
    "Implement the `flatten` function to change the dimension of `x_tensor` from a 4-D tensor to a 2-D tensor.  The output should be the shape (*Batch Size*, *Flattened Image Size*). Shortcut option: you can use classes from the [TensorFlow Layers](https://www.tensorflow.org/api_docs/python/tf/layers) or [TensorFlow Layers (contrib)](https://www.tensorflow.org/api_guides/python/contrib.layers) packages for this layer. For more of a challenge, only use other TensorFlow packages."
   ]
  },
  {
   "cell_type": "code",
   "execution_count": 75,
   "metadata": {},
   "outputs": [
    {
     "name": "stdout",
     "output_type": "stream",
     "text": [
      "Tests Passed\n"
     ]
    }
   ],
   "source": [
    "def flatten(x_tensor):\n",
    "    \"\"\"\n",
    "    Flatten x_tensor to (Batch Size, Flattened Image Size)\n",
    "    : x_tensor: A tensor of size (Batch Size, ...), where ... are the image dimensions.\n",
    "    : return: A tensor of size (Batch Size, Flattened Image Size).\n",
    "    \"\"\"\n",
    "    # TODO: Implement Function\n",
    "    shape = x_tensor.get_shape().as_list()\n",
    "    #print(shape)\n",
    "    dim = np.prod(shape[1:])\n",
    "    #print(dim)\n",
    "    return tf.reshape(x_tensor, [-1,dim])\n",
    "    \n",
    "\n",
    "\"\"\"\n",
    "DON'T MODIFY ANYTHING IN THIS CELL THAT IS BELOW THIS LINE\n",
    "\"\"\"\n",
    "tests.test_flatten(flatten)"
   ]
  },
  {
   "cell_type": "markdown",
   "metadata": {},
   "source": [
    "### Fully-Connected Layer\n",
    "Implement the `fully_conn` function to apply a fully connected layer to `x_tensor` with the shape (*Batch Size*, *num_outputs*). Shortcut option: you can use classes from the [TensorFlow Layers](https://www.tensorflow.org/api_docs/python/tf/layers) or [TensorFlow Layers (contrib)](https://www.tensorflow.org/api_guides/python/contrib.layers) packages for this layer. For more of a challenge, only use other TensorFlow packages."
   ]
  },
  {
   "cell_type": "code",
   "execution_count": 66,
   "metadata": {},
   "outputs": [
    {
     "name": "stdout",
     "output_type": "stream",
     "text": [
      "Tests Passed\n"
     ]
    }
   ],
   "source": [
    "def fully_conn(x_tensor, num_outputs):\n",
    "    \"\"\"\n",
    "    Apply a fully connected layer to x_tensor using weight and bias\n",
    "    : x_tensor: A 2-D tensor where the first dimension is batch size.\n",
    "    : num_outputs: The number of output that the new tensor should be.\n",
    "    : return: A 2-D tensor where the second dimension is num_outputs.\n",
    "    \"\"\"\n",
    "    # TODO: Implement Function\n",
    "    weight = tf.Variable(tf.truncated_normal((x_tensor.get_shape().as_list()[1], num_outputs),mean=0.0, stddev=0.1))\n",
    "    bias = tf.Variable(tf.zeros(num_outputs))\n",
    "    return tf.matmul(x_tensor,weight) + bias\n",
    "\n",
    "\"\"\"\n",
    "DON'T MODIFY ANYTHING IN THIS CELL THAT IS BELOW THIS LINE\n",
    "\"\"\"\n",
    "tests.test_fully_conn(fully_conn)"
   ]
  },
  {
   "cell_type": "markdown",
   "metadata": {},
   "source": [
    "### Output Layer\n",
    "Implement the `output` function to apply a fully connected layer to `x_tensor` with the shape (*Batch Size*, *num_outputs*). Shortcut option: you can use classes from the [TensorFlow Layers](https://www.tensorflow.org/api_docs/python/tf/layers) or [TensorFlow Layers (contrib)](https://www.tensorflow.org/api_guides/python/contrib.layers) packages for this layer. For more of a challenge, only use other TensorFlow packages.\n",
    "\n",
    "**Note:** Activation, softmax, or cross entropy should **not** be applied to this."
   ]
  },
  {
   "cell_type": "code",
   "execution_count": 68,
   "metadata": {},
   "outputs": [
    {
     "name": "stdout",
     "output_type": "stream",
     "text": [
      "Tensor(\"Placeholder_22:0\", shape=(?, 128), dtype=float32)\n",
      "40\n",
      "Tests Passed\n"
     ]
    }
   ],
   "source": [
    "def output(x_tensor, num_outputs):\n",
    "    \"\"\"\n",
    "    Apply a output layer to x_tensor using weight and bias\n",
    "    : x_tensor: A 2-D tensor where the first dimension is batch size.\n",
    "    : num_outputs: The number of output that the new tensor should be.\n",
    "    : return: A 2-D tensor where the second dimension is num_outputs.\n",
    "    \"\"\"\n",
    "    # TODO: Implement Function\n",
    "    #print(x_tensor)\n",
    "    #print(num_outputs)\n",
    "    weight = tf.Variable(tf.truncated_normal((x_tensor.get_shape().as_list()[1], num_outputs),mean=0.0, stddev=0.1))\n",
    "    bias = tf.Variable(tf.zeros(num_outputs))\n",
    "    return tf.matmul(x_tensor,weight) + bias\n",
    "\n",
    "\n",
    "\"\"\"\n",
    "DON'T MODIFY ANYTHING IN THIS CELL THAT IS BELOW THIS LINE\n",
    "\"\"\"\n",
    "tests.test_output(output)"
   ]
  },
  {
   "cell_type": "markdown",
   "metadata": {},
   "source": [
    "### Create Convolutional Model\n",
    "Implement the function `conv_net` to create a convolutional neural network model. The function takes in a batch of images, `x`, and outputs logits.  Use the layers you created above to create this model:\n",
    "\n",
    "* Apply 1, 2, or 3 Convolution and Max Pool layers\n",
    "* Apply a Flatten Layer\n",
    "* Apply 1, 2, or 3 Fully Connected Layers\n",
    "* Apply an Output Layer\n",
    "* Return the output\n",
    "* Apply [TensorFlow's Dropout](https://www.tensorflow.org/api_docs/python/tf/nn/dropout) to one or more layers in the model using `keep_prob`. "
   ]
  },
  {
   "cell_type": "code",
   "execution_count": 77,
   "metadata": {},
   "outputs": [
    {
     "name": "stdout",
     "output_type": "stream",
     "text": [
      "(32, 32, 3)\n",
      "10\n",
      "[None, 32, 32, 3]\n",
      "Tensor(\"x:0\", shape=(?, 32, 32, 3), dtype=float32)\n",
      "255\n",
      "[2, 2]\n",
      "[2, 2]\n",
      "[2, 2]\n",
      "[2, 2]\n",
      "Tensor(\"add:0\", shape=(?, 255), dtype=float32)\n",
      "10\n",
      "[None, 32, 32, 3]\n",
      "Tensor(\"Placeholder:0\", shape=(?, 32, 32, 3), dtype=float32)\n",
      "255\n",
      "[2, 2]\n",
      "[2, 2]\n",
      "[2, 2]\n",
      "[2, 2]\n",
      "Tensor(\"add_2:0\", shape=(?, 255), dtype=float32)\n",
      "10\n",
      "Neural Network Built!\n"
     ]
    }
   ],
   "source": [
    "def conv_net(x, keep_prob):\n",
    "    \"\"\"\n",
    "    Create a convolutional neural network model\n",
    "    : x: Placeholder tensor that holds image data.\n",
    "    : keep_prob: Placeholder tensor that hold dropout keep probability.\n",
    "    : return: Tensor that represents logits\n",
    "    \"\"\"\n",
    "    num_classes = 10\n",
    "    image_size = x.get_shape().as_list()\n",
    "    print(image_size)\n",
    "    # TODO: Apply 1, 2, or 3 Convolution and Max Pool layers\n",
    "    #    Play around with different number of outputs, kernel size and stride\n",
    "    # Function Definition from Above:\n",
    "    #    conv2d_maxpool(x_tensor, conv_num_outputs, conv_ksize, conv_strides, pool_ksize, pool_strides)\n",
    "    conv_num_outputs = 255\n",
    "    conv_ksize = [2,2]\n",
    "    conv_strides = [2,2]\n",
    "    pool_ksize = [2,2]\n",
    "    pool_strides = [2,2] \n",
    "    layer = conv2d_maxpool(x, conv_num_outputs, conv_ksize, conv_strides, pool_ksize, pool_strides)\n",
    "    \n",
    "\n",
    "    # TODO: Apply a Flatten Layer\n",
    "    # Function Definition from Above:\n",
    "    #   flatten(x_tensor)\n",
    "    layer = flatten(layer)\n",
    "\n",
    "    # TODO: Apply 1, 2, or 3 Fully Connected Layers\n",
    "    #    Play around with different number of outputs\n",
    "    # Function Definition from Above:\n",
    "    #   fully_conn(x_tensor, num_outputs)\n",
    "    layer = fully_conn(layer, 255)\n",
    "    \n",
    "    # TODO: Apply an Output Layer\n",
    "    #    Set this to the number of classes\n",
    "    # Function Definition from Above:\n",
    "    #   output(x_tensor, num_outputs)\n",
    "    layer = output(layer, num_classes)\n",
    "    \n",
    "    # TODO: return output\n",
    "    return layer\n",
    "\n",
    "\n",
    "\"\"\"\n",
    "DON'T MODIFY ANYTHING IN THIS CELL THAT IS BELOW THIS LINE\n",
    "\"\"\"\n",
    "\n",
    "##############################\n",
    "## Build the Neural Network ##\n",
    "##############################\n",
    "\n",
    "# Remove previous weights, bias, inputs, etc..\n",
    "tf.reset_default_graph()\n",
    "\n",
    "# Inputs\n",
    "x = neural_net_image_input((32, 32, 3))\n",
    "y = neural_net_label_input(10)\n",
    "keep_prob = neural_net_keep_prob_input()\n",
    "\n",
    "# Model\n",
    "logits = conv_net(x, keep_prob)\n",
    "\n",
    "# Name logits Tensor, so that is can be loaded from disk after training\n",
    "logits = tf.identity(logits, name='logits')\n",
    "\n",
    "# Loss and Optimizer\n",
    "cost = tf.reduce_mean(tf.nn.softmax_cross_entropy_with_logits(logits=logits, labels=y))\n",
    "optimizer = tf.train.AdamOptimizer().minimize(cost)\n",
    "\n",
    "# Accuracy\n",
    "correct_pred = tf.equal(tf.argmax(logits, 1), tf.argmax(y, 1))\n",
    "accuracy = tf.reduce_mean(tf.cast(correct_pred, tf.float32), name='accuracy')\n",
    "\n",
    "tests.test_conv_net(conv_net)"
   ]
  },
  {
   "cell_type": "markdown",
   "metadata": {},
   "source": [
    "## Train the Neural Network\n",
    "### Single Optimization\n",
    "Implement the function `train_neural_network` to do a single optimization.  The optimization should use `optimizer` to optimize in `session` with a `feed_dict` of the following:\n",
    "* `x` for image input\n",
    "* `y` for labels\n",
    "* `keep_prob` for keep probability for dropout\n",
    "\n",
    "This function will be called for each batch, so `tf.global_variables_initializer()` has already been called.\n",
    "\n",
    "Note: Nothing needs to be returned. This function is only optimizing the neural network."
   ]
  },
  {
   "cell_type": "code",
   "execution_count": 81,
   "metadata": {},
   "outputs": [
    {
     "name": "stdout",
     "output_type": "stream",
     "text": [
      "Tests Passed\n"
     ]
    }
   ],
   "source": [
    "def train_neural_network(session, optimizer, keep_probability, feature_batch, label_batch):\n",
    "    \"\"\"\n",
    "    Optimize the session on a batch of images and labels\n",
    "    : session: Current TensorFlow session\n",
    "    : optimizer: TensorFlow optimizer function\n",
    "    : keep_probability: keep probability\n",
    "    : feature_batch: Batch of Numpy image data\n",
    "    : label_batch: Batch of Numpy label data\n",
    "    \"\"\"\n",
    "    # TODO: Implement Function\n",
    "    session.run(optimizer, feed_dict={x: feature_batch, y: label_batch, keep_prob: keep_probability})\n",
    "\n",
    "\n",
    "\"\"\"\n",
    "DON'T MODIFY ANYTHING IN THIS CELL THAT IS BELOW THIS LINE\n",
    "\"\"\"\n",
    "tests.test_train_nn(train_neural_network)"
   ]
  },
  {
   "cell_type": "markdown",
   "metadata": {},
   "source": [
    "### Show Stats\n",
    "Implement the function `print_stats` to print loss and validation accuracy.  Use the global variables `valid_features` and `valid_labels` to calculate validation accuracy.  Use a keep probability of `1.0` to calculate the loss and validation accuracy."
   ]
  },
  {
   "cell_type": "code",
   "execution_count": 78,
   "metadata": {
    "collapsed": true
   },
   "outputs": [],
   "source": [
    "def print_stats(session, feature_batch, label_batch, cost, accuracy):\n",
    "    \"\"\"\n",
    "    Print information about loss and validation accuracy\n",
    "    : session: Current TensorFlow session\n",
    "    : feature_batch: Batch of Numpy image data\n",
    "    : label_batch: Batch of Numpy label data\n",
    "    : cost: TensorFlow cost function\n",
    "    : accuracy: TensorFlow accuracy function\n",
    "    \"\"\"\n",
    "    # TODO: Implement Function\n",
    "    train_loss = session.run(cost, feed_dict={x: feature_batch, y: label_batch, keep_prob: 1.0})\n",
    "    val_acc = session.run(accuracy, feed_dict={x: valid_features, y: valid_labels, keep_prob: 1.0})\n",
    "    print(\"Loss = {:>10.4f}, Accuracy = {:.04f}\".format(train_loss, val_acc))"
   ]
  },
  {
   "cell_type": "markdown",
   "metadata": {},
   "source": [
    "### Hyperparameters\n",
    "Tune the following parameters:\n",
    "* Set `epochs` to the number of iterations until the network stops learning or start overfitting\n",
    "* Set `batch_size` to the highest number that your machine has memory for.  Most people set them to common sizes of memory:\n",
    " * 64\n",
    " * 128\n",
    " * 256\n",
    " * ...\n",
    "* Set `keep_probability` to the probability of keeping a node using dropout"
   ]
  },
  {
   "cell_type": "code",
   "execution_count": 90,
   "metadata": {
    "collapsed": true
   },
   "outputs": [],
   "source": [
    "# TODO: Tune Parameters\n",
    "epochs = 64\n",
    "batch_size = 4096*2\n",
    "keep_probability = 0.6"
   ]
  },
  {
   "cell_type": "markdown",
   "metadata": {},
   "source": [
    "### Train on a Single CIFAR-10 Batch\n",
    "Instead of training the neural network on all the CIFAR-10 batches of data, let's use a single batch. This should save time while you iterate on the model to get a better accuracy.  Once the final validation accuracy is 50% or greater, run the model on all the data in the next section."
   ]
  },
  {
   "cell_type": "code",
   "execution_count": 91,
   "metadata": {},
   "outputs": [
    {
     "name": "stdout",
     "output_type": "stream",
     "text": [
      "Checking the Training on a Single Batch...\n",
      "Epoch  1, CIFAR-10 Batch 1:  Loss =     7.1407, Accuracy = 0.1154\n",
      "Epoch  2, CIFAR-10 Batch 1:  Loss =     7.8329, Accuracy = 0.1198\n",
      "Epoch  3, CIFAR-10 Batch 1:  Loss =     6.5126, Accuracy = 0.1268\n",
      "Epoch  4, CIFAR-10 Batch 1:  Loss =     4.8278, Accuracy = 0.1532\n",
      "Epoch  5, CIFAR-10 Batch 1:  Loss =     4.0669, Accuracy = 0.1552\n",
      "Epoch  6, CIFAR-10 Batch 1:  Loss =     3.2209, Accuracy = 0.1628\n",
      "Epoch  7, CIFAR-10 Batch 1:  Loss =     3.3659, Accuracy = 0.1286\n",
      "Epoch  8, CIFAR-10 Batch 1:  Loss =     2.4990, Accuracy = 0.2032\n",
      "Epoch  9, CIFAR-10 Batch 1:  Loss =     2.5793, Accuracy = 0.2164\n",
      "Epoch 10, CIFAR-10 Batch 1:  Loss =     2.5986, Accuracy = 0.2044\n",
      "Epoch 11, CIFAR-10 Batch 1:  Loss =     2.3423, Accuracy = 0.2626\n",
      "Epoch 12, CIFAR-10 Batch 1:  Loss =     2.1022, Accuracy = 0.2542\n",
      "Epoch 13, CIFAR-10 Batch 1:  Loss =     2.0109, Accuracy = 0.2370\n",
      "Epoch 14, CIFAR-10 Batch 1:  Loss =     1.8704, Accuracy = 0.2892\n",
      "Epoch 15, CIFAR-10 Batch 1:  Loss =     1.8359, Accuracy = 0.2622\n",
      "Epoch 16, CIFAR-10 Batch 1:  Loss =     1.7521, Accuracy = 0.3106\n",
      "Epoch 17, CIFAR-10 Batch 1:  Loss =     1.7354, Accuracy = 0.3028\n",
      "Epoch 18, CIFAR-10 Batch 1:  Loss =     1.6317, Accuracy = 0.3486\n",
      "Epoch 19, CIFAR-10 Batch 1:  Loss =     1.5568, Accuracy = 0.3590\n",
      "Epoch 20, CIFAR-10 Batch 1:  Loss =     1.5373, Accuracy = 0.3614\n",
      "Epoch 21, CIFAR-10 Batch 1:  Loss =     1.4628, Accuracy = 0.3950\n",
      "Epoch 22, CIFAR-10 Batch 1:  Loss =     1.4187, Accuracy = 0.4042\n",
      "Epoch 23, CIFAR-10 Batch 1:  Loss =     1.3937, Accuracy = 0.3962\n",
      "Epoch 24, CIFAR-10 Batch 1:  Loss =     1.3236, Accuracy = 0.4142\n",
      "Epoch 25, CIFAR-10 Batch 1:  Loss =     1.2891, Accuracy = 0.4180\n",
      "Epoch 26, CIFAR-10 Batch 1:  Loss =     1.2485, Accuracy = 0.4294\n",
      "Epoch 27, CIFAR-10 Batch 1:  Loss =     1.1985, Accuracy = 0.4438\n",
      "Epoch 28, CIFAR-10 Batch 1:  Loss =     1.1752, Accuracy = 0.4350\n",
      "Epoch 29, CIFAR-10 Batch 1:  Loss =     1.1237, Accuracy = 0.4544\n",
      "Epoch 30, CIFAR-10 Batch 1:  Loss =     1.0928, Accuracy = 0.4552\n",
      "Epoch 31, CIFAR-10 Batch 1:  Loss =     1.0519, Accuracy = 0.4672\n",
      "Epoch 32, CIFAR-10 Batch 1:  Loss =     1.0168, Accuracy = 0.4676\n",
      "Epoch 33, CIFAR-10 Batch 1:  Loss =     0.9801, Accuracy = 0.4694\n",
      "Epoch 34, CIFAR-10 Batch 1:  Loss =     0.9467, Accuracy = 0.4742\n",
      "Epoch 35, CIFAR-10 Batch 1:  Loss =     0.9119, Accuracy = 0.4786\n",
      "Epoch 36, CIFAR-10 Batch 1:  Loss =     0.8825, Accuracy = 0.4802\n",
      "Epoch 37, CIFAR-10 Batch 1:  Loss =     0.8488, Accuracy = 0.4834\n",
      "Epoch 38, CIFAR-10 Batch 1:  Loss =     0.8226, Accuracy = 0.4872\n",
      "Epoch 39, CIFAR-10 Batch 1:  Loss =     0.7924, Accuracy = 0.4866\n",
      "Epoch 40, CIFAR-10 Batch 1:  Loss =     0.7669, Accuracy = 0.4894\n",
      "Epoch 41, CIFAR-10 Batch 1:  Loss =     0.7426, Accuracy = 0.4922\n",
      "Epoch 42, CIFAR-10 Batch 1:  Loss =     0.7184, Accuracy = 0.4918\n",
      "Epoch 43, CIFAR-10 Batch 1:  Loss =     0.6965, Accuracy = 0.4978\n",
      "Epoch 44, CIFAR-10 Batch 1:  Loss =     0.6738, Accuracy = 0.5002\n",
      "Epoch 45, CIFAR-10 Batch 1:  Loss =     0.6535, Accuracy = 0.5000\n",
      "Epoch 46, CIFAR-10 Batch 1:  Loss =     0.6336, Accuracy = 0.5032\n",
      "Epoch 47, CIFAR-10 Batch 1:  Loss =     0.6139, Accuracy = 0.5048\n",
      "Epoch 48, CIFAR-10 Batch 1:  Loss =     0.5965, Accuracy = 0.5050\n",
      "Epoch 49, CIFAR-10 Batch 1:  Loss =     0.5783, Accuracy = 0.5088\n",
      "Epoch 50, CIFAR-10 Batch 1:  Loss =     0.5615, Accuracy = 0.5102\n",
      "Epoch 51, CIFAR-10 Batch 1:  Loss =     0.5457, Accuracy = 0.5112\n",
      "Epoch 52, CIFAR-10 Batch 1:  Loss =     0.5301, Accuracy = 0.5120\n",
      "Epoch 53, CIFAR-10 Batch 1:  Loss =     0.5151, Accuracy = 0.5134\n",
      "Epoch 54, CIFAR-10 Batch 1:  Loss =     0.5017, Accuracy = 0.5140\n",
      "Epoch 55, CIFAR-10 Batch 1:  Loss =     0.4878, Accuracy = 0.5136\n",
      "Epoch 56, CIFAR-10 Batch 1:  Loss =     0.4758, Accuracy = 0.5172\n",
      "Epoch 57, CIFAR-10 Batch 1:  Loss =     0.4641, Accuracy = 0.5130\n",
      "Epoch 58, CIFAR-10 Batch 1:  Loss =     0.4549, Accuracy = 0.5156\n",
      "Epoch 59, CIFAR-10 Batch 1:  Loss =     0.4472, Accuracy = 0.5106\n",
      "Epoch 60, CIFAR-10 Batch 1:  Loss =     0.4462, Accuracy = 0.5074\n",
      "Epoch 61, CIFAR-10 Batch 1:  Loss =     0.4457, Accuracy = 0.5026\n",
      "Epoch 62, CIFAR-10 Batch 1:  Loss =     0.4415, Accuracy = 0.5082\n",
      "Epoch 63, CIFAR-10 Batch 1:  Loss =     0.4172, Accuracy = 0.5104\n",
      "Epoch 64, CIFAR-10 Batch 1:  Loss =     0.3954, Accuracy = 0.5220\n"
     ]
    }
   ],
   "source": [
    "\"\"\"\n",
    "DON'T MODIFY ANYTHING IN THIS CELL\n",
    "\"\"\"\n",
    "print('Checking the Training on a Single Batch...')\n",
    "with tf.Session() as sess:\n",
    "    # Initializing the variables\n",
    "    sess.run(tf.global_variables_initializer())\n",
    "    \n",
    "    # Training cycle\n",
    "    for epoch in range(epochs):\n",
    "        batch_i = 1\n",
    "        for batch_features, batch_labels in helper.load_preprocess_training_batch(batch_i, batch_size):\n",
    "            train_neural_network(sess, optimizer, keep_probability, batch_features, batch_labels)\n",
    "        print('Epoch {:>2}, CIFAR-10 Batch {}:  '.format(epoch + 1, batch_i), end='')\n",
    "        print_stats(sess, batch_features, batch_labels, cost, accuracy)"
   ]
  },
  {
   "cell_type": "markdown",
   "metadata": {},
   "source": [
    "### Fully Train the Model\n",
    "Now that you got a good accuracy with a single CIFAR-10 batch, try it with all five batches."
   ]
  },
  {
   "cell_type": "code",
   "execution_count": 92,
   "metadata": {},
   "outputs": [
    {
     "name": "stdout",
     "output_type": "stream",
     "text": [
      "Training...\n",
      "Epoch  1, CIFAR-10 Batch 1:  Loss =     8.8987, Accuracy = 0.0956\n",
      "Epoch  1, CIFAR-10 Batch 2:  Loss =    10.1476, Accuracy = 0.1094\n",
      "Epoch  1, CIFAR-10 Batch 3:  Loss =     7.9179, Accuracy = 0.1404\n",
      "Epoch  1, CIFAR-10 Batch 4:  Loss =     5.5418, Accuracy = 0.1284\n",
      "Epoch  1, CIFAR-10 Batch 5:  Loss =     3.1120, Accuracy = 0.1706\n",
      "Epoch  2, CIFAR-10 Batch 1:  Loss =     3.8864, Accuracy = 0.1622\n",
      "Epoch  2, CIFAR-10 Batch 2:  Loss =     4.3983, Accuracy = 0.1734\n",
      "Epoch  2, CIFAR-10 Batch 3:  Loss =     3.5447, Accuracy = 0.1538\n",
      "Epoch  2, CIFAR-10 Batch 4:  Loss =     2.5177, Accuracy = 0.1856\n",
      "Epoch  2, CIFAR-10 Batch 5:  Loss =     2.5743, Accuracy = 0.2092\n",
      "Epoch  3, CIFAR-10 Batch 1:  Loss =     2.7644, Accuracy = 0.1868\n",
      "Epoch  3, CIFAR-10 Batch 2:  Loss =     2.3891, Accuracy = 0.1818\n",
      "Epoch  3, CIFAR-10 Batch 3:  Loss =     1.9950, Accuracy = 0.2556\n",
      "Epoch  3, CIFAR-10 Batch 4:  Loss =     2.1286, Accuracy = 0.2454\n",
      "Epoch  3, CIFAR-10 Batch 5:  Loss =     2.1371, Accuracy = 0.2710\n",
      "Epoch  4, CIFAR-10 Batch 1:  Loss =     2.1008, Accuracy = 0.2564\n",
      "Epoch  4, CIFAR-10 Batch 2:  Loss =     1.9021, Accuracy = 0.3058\n",
      "Epoch  4, CIFAR-10 Batch 3:  Loss =     1.7995, Accuracy = 0.3208\n",
      "Epoch  4, CIFAR-10 Batch 4:  Loss =     1.8452, Accuracy = 0.2968\n",
      "Epoch  4, CIFAR-10 Batch 5:  Loss =     1.7603, Accuracy = 0.3476\n",
      "Epoch  5, CIFAR-10 Batch 1:  Loss =     1.6900, Accuracy = 0.3738\n",
      "Epoch  5, CIFAR-10 Batch 2:  Loss =     1.7250, Accuracy = 0.3848\n",
      "Epoch  5, CIFAR-10 Batch 3:  Loss =     1.6539, Accuracy = 0.3768\n",
      "Epoch  5, CIFAR-10 Batch 4:  Loss =     1.5804, Accuracy = 0.4182\n",
      "Epoch  5, CIFAR-10 Batch 5:  Loss =     1.5754, Accuracy = 0.4226\n",
      "Epoch  6, CIFAR-10 Batch 1:  Loss =     1.5862, Accuracy = 0.4276\n",
      "Epoch  6, CIFAR-10 Batch 2:  Loss =     1.5241, Accuracy = 0.4514\n",
      "Epoch  6, CIFAR-10 Batch 3:  Loss =     1.4641, Accuracy = 0.4426\n",
      "Epoch  6, CIFAR-10 Batch 4:  Loss =     1.4631, Accuracy = 0.4486\n",
      "Epoch  6, CIFAR-10 Batch 5:  Loss =     1.4396, Accuracy = 0.4718\n",
      "Epoch  7, CIFAR-10 Batch 1:  Loss =     1.4503, Accuracy = 0.4600\n",
      "Epoch  7, CIFAR-10 Batch 2:  Loss =     1.3912, Accuracy = 0.4726\n",
      "Epoch  7, CIFAR-10 Batch 3:  Loss =     1.3528, Accuracy = 0.4772\n",
      "Epoch  7, CIFAR-10 Batch 4:  Loss =     1.3515, Accuracy = 0.4852\n",
      "Epoch  7, CIFAR-10 Batch 5:  Loss =     1.3399, Accuracy = 0.4870\n",
      "Epoch  8, CIFAR-10 Batch 1:  Loss =     1.3569, Accuracy = 0.4882\n",
      "Epoch  8, CIFAR-10 Batch 2:  Loss =     1.3000, Accuracy = 0.4930\n",
      "Epoch  8, CIFAR-10 Batch 3:  Loss =     1.2718, Accuracy = 0.4972\n",
      "Epoch  8, CIFAR-10 Batch 4:  Loss =     1.2635, Accuracy = 0.5128\n",
      "Epoch  8, CIFAR-10 Batch 5:  Loss =     1.2591, Accuracy = 0.5124\n",
      "Epoch  9, CIFAR-10 Batch 1:  Loss =     1.2789, Accuracy = 0.5048\n",
      "Epoch  9, CIFAR-10 Batch 2:  Loss =     1.2149, Accuracy = 0.5110\n",
      "Epoch  9, CIFAR-10 Batch 3:  Loss =     1.1980, Accuracy = 0.5190\n",
      "Epoch  9, CIFAR-10 Batch 4:  Loss =     1.1932, Accuracy = 0.5264\n",
      "Epoch  9, CIFAR-10 Batch 5:  Loss =     1.1957, Accuracy = 0.5216\n",
      "Epoch 10, CIFAR-10 Batch 1:  Loss =     1.2087, Accuracy = 0.5214\n",
      "Epoch 10, CIFAR-10 Batch 2:  Loss =     1.1443, Accuracy = 0.5302\n",
      "Epoch 10, CIFAR-10 Batch 3:  Loss =     1.1334, Accuracy = 0.5328\n",
      "Epoch 10, CIFAR-10 Batch 4:  Loss =     1.1422, Accuracy = 0.5276\n",
      "Epoch 10, CIFAR-10 Batch 5:  Loss =     1.1402, Accuracy = 0.5324\n",
      "Epoch 11, CIFAR-10 Batch 1:  Loss =     1.1491, Accuracy = 0.5316\n",
      "Epoch 11, CIFAR-10 Batch 2:  Loss =     1.0876, Accuracy = 0.5390\n",
      "Epoch 11, CIFAR-10 Batch 3:  Loss =     1.0849, Accuracy = 0.5404\n",
      "Epoch 11, CIFAR-10 Batch 4:  Loss =     1.1012, Accuracy = 0.5384\n",
      "Epoch 11, CIFAR-10 Batch 5:  Loss =     1.0922, Accuracy = 0.5410\n",
      "Epoch 12, CIFAR-10 Batch 1:  Loss =     1.0971, Accuracy = 0.5448\n",
      "Epoch 12, CIFAR-10 Batch 2:  Loss =     1.0460, Accuracy = 0.5492\n",
      "Epoch 12, CIFAR-10 Batch 3:  Loss =     1.0480, Accuracy = 0.5474\n",
      "Epoch 12, CIFAR-10 Batch 4:  Loss =     1.0565, Accuracy = 0.5458\n",
      "Epoch 12, CIFAR-10 Batch 5:  Loss =     1.0437, Accuracy = 0.5518\n",
      "Epoch 13, CIFAR-10 Batch 1:  Loss =     1.0574, Accuracy = 0.5506\n",
      "Epoch 13, CIFAR-10 Batch 2:  Loss =     1.0112, Accuracy = 0.5520\n",
      "Epoch 13, CIFAR-10 Batch 3:  Loss =     1.0039, Accuracy = 0.5536\n",
      "Epoch 13, CIFAR-10 Batch 4:  Loss =     1.0129, Accuracy = 0.5550\n",
      "Epoch 13, CIFAR-10 Batch 5:  Loss =     1.0072, Accuracy = 0.5588\n",
      "Epoch 14, CIFAR-10 Batch 1:  Loss =     1.0198, Accuracy = 0.5576\n",
      "Epoch 14, CIFAR-10 Batch 2:  Loss =     0.9724, Accuracy = 0.5546\n",
      "Epoch 14, CIFAR-10 Batch 3:  Loss =     0.9649, Accuracy = 0.5602\n",
      "Epoch 14, CIFAR-10 Batch 4:  Loss =     0.9771, Accuracy = 0.5600\n",
      "Epoch 14, CIFAR-10 Batch 5:  Loss =     0.9725, Accuracy = 0.5642\n",
      "Epoch 15, CIFAR-10 Batch 1:  Loss =     0.9846, Accuracy = 0.5594\n",
      "Epoch 15, CIFAR-10 Batch 2:  Loss =     0.9403, Accuracy = 0.5560\n",
      "Epoch 15, CIFAR-10 Batch 3:  Loss =     0.9323, Accuracy = 0.5658\n",
      "Epoch 15, CIFAR-10 Batch 4:  Loss =     0.9449, Accuracy = 0.5646\n",
      "Epoch 15, CIFAR-10 Batch 5:  Loss =     0.9418, Accuracy = 0.5690\n",
      "Epoch 16, CIFAR-10 Batch 1:  Loss =     0.9561, Accuracy = 0.5630\n",
      "Epoch 16, CIFAR-10 Batch 2:  Loss =     0.9113, Accuracy = 0.5606\n",
      "Epoch 16, CIFAR-10 Batch 3:  Loss =     0.9028, Accuracy = 0.5706\n",
      "Epoch 16, CIFAR-10 Batch 4:  Loss =     0.9148, Accuracy = 0.5658\n",
      "Epoch 16, CIFAR-10 Batch 5:  Loss =     0.9150, Accuracy = 0.5702\n",
      "Epoch 17, CIFAR-10 Batch 1:  Loss =     0.9322, Accuracy = 0.5646\n",
      "Epoch 17, CIFAR-10 Batch 2:  Loss =     0.8850, Accuracy = 0.5620\n",
      "Epoch 17, CIFAR-10 Batch 3:  Loss =     0.8756, Accuracy = 0.5720\n",
      "Epoch 17, CIFAR-10 Batch 4:  Loss =     0.8879, Accuracy = 0.5664\n",
      "Epoch 17, CIFAR-10 Batch 5:  Loss =     0.8888, Accuracy = 0.5716\n",
      "Epoch 18, CIFAR-10 Batch 1:  Loss =     0.9099, Accuracy = 0.5642\n",
      "Epoch 18, CIFAR-10 Batch 2:  Loss =     0.8603, Accuracy = 0.5622\n",
      "Epoch 18, CIFAR-10 Batch 3:  Loss =     0.8495, Accuracy = 0.5716\n",
      "Epoch 18, CIFAR-10 Batch 4:  Loss =     0.8620, Accuracy = 0.5728\n",
      "Epoch 18, CIFAR-10 Batch 5:  Loss =     0.8671, Accuracy = 0.5716\n",
      "Epoch 19, CIFAR-10 Batch 1:  Loss =     0.8877, Accuracy = 0.5652\n",
      "Epoch 19, CIFAR-10 Batch 2:  Loss =     0.8343, Accuracy = 0.5682\n",
      "Epoch 19, CIFAR-10 Batch 3:  Loss =     0.8241, Accuracy = 0.5716\n",
      "Epoch 19, CIFAR-10 Batch 4:  Loss =     0.8420, Accuracy = 0.5762\n",
      "Epoch 19, CIFAR-10 Batch 5:  Loss =     0.8455, Accuracy = 0.5698\n",
      "Epoch 20, CIFAR-10 Batch 1:  Loss =     0.8644, Accuracy = 0.5670\n",
      "Epoch 20, CIFAR-10 Batch 2:  Loss =     0.8084, Accuracy = 0.5708\n",
      "Epoch 20, CIFAR-10 Batch 3:  Loss =     0.8039, Accuracy = 0.5732\n",
      "Epoch 20, CIFAR-10 Batch 4:  Loss =     0.8254, Accuracy = 0.5772\n",
      "Epoch 20, CIFAR-10 Batch 5:  Loss =     0.8239, Accuracy = 0.5714\n",
      "Epoch 21, CIFAR-10 Batch 1:  Loss =     0.8389, Accuracy = 0.5730\n",
      "Epoch 21, CIFAR-10 Batch 2:  Loss =     0.7872, Accuracy = 0.5774\n",
      "Epoch 21, CIFAR-10 Batch 3:  Loss =     0.7896, Accuracy = 0.5732\n",
      "Epoch 21, CIFAR-10 Batch 4:  Loss =     0.8073, Accuracy = 0.5780\n",
      "Epoch 21, CIFAR-10 Batch 5:  Loss =     0.7975, Accuracy = 0.5770\n",
      "Epoch 22, CIFAR-10 Batch 1:  Loss =     0.8160, Accuracy = 0.5776\n",
      "Epoch 22, CIFAR-10 Batch 2:  Loss =     0.7729, Accuracy = 0.5796\n",
      "Epoch 22, CIFAR-10 Batch 3:  Loss =     0.7775, Accuracy = 0.5720\n",
      "Epoch 22, CIFAR-10 Batch 4:  Loss =     0.7814, Accuracy = 0.5786\n",
      "Epoch 22, CIFAR-10 Batch 5:  Loss =     0.7714, Accuracy = 0.5830\n",
      "Epoch 23, CIFAR-10 Batch 1:  Loss =     0.8004, Accuracy = 0.5764\n",
      "Epoch 23, CIFAR-10 Batch 2:  Loss =     0.7611, Accuracy = 0.5794\n",
      "Epoch 23, CIFAR-10 Batch 3:  Loss =     0.7588, Accuracy = 0.5714\n",
      "Epoch 23, CIFAR-10 Batch 4:  Loss =     0.7547, Accuracy = 0.5826\n",
      "Epoch 23, CIFAR-10 Batch 5:  Loss =     0.7510, Accuracy = 0.5860\n",
      "Epoch 24, CIFAR-10 Batch 1:  Loss =     0.7869, Accuracy = 0.5774\n",
      "Epoch 24, CIFAR-10 Batch 2:  Loss =     0.7442, Accuracy = 0.5780\n",
      "Epoch 24, CIFAR-10 Batch 3:  Loss =     0.7374, Accuracy = 0.5768\n",
      "Epoch 24, CIFAR-10 Batch 4:  Loss =     0.7342, Accuracy = 0.5858\n",
      "Epoch 24, CIFAR-10 Batch 5:  Loss =     0.7346, Accuracy = 0.5874\n",
      "Epoch 25, CIFAR-10 Batch 1:  Loss =     0.7702, Accuracy = 0.5752\n",
      "Epoch 25, CIFAR-10 Batch 2:  Loss =     0.7267, Accuracy = 0.5816\n",
      "Epoch 25, CIFAR-10 Batch 3:  Loss =     0.7200, Accuracy = 0.5808\n",
      "Epoch 25, CIFAR-10 Batch 4:  Loss =     0.7166, Accuracy = 0.5870\n"
     ]
    },
    {
     "name": "stdout",
     "output_type": "stream",
     "text": [
      "Epoch 25, CIFAR-10 Batch 5:  Loss =     0.7171, Accuracy = 0.5884\n",
      "Epoch 26, CIFAR-10 Batch 1:  Loss =     0.7536, Accuracy = 0.5740\n",
      "Epoch 26, CIFAR-10 Batch 2:  Loss =     0.7115, Accuracy = 0.5796\n",
      "Epoch 26, CIFAR-10 Batch 3:  Loss =     0.7045, Accuracy = 0.5820\n",
      "Epoch 26, CIFAR-10 Batch 4:  Loss =     0.7000, Accuracy = 0.5886\n",
      "Epoch 26, CIFAR-10 Batch 5:  Loss =     0.7008, Accuracy = 0.5930\n",
      "Epoch 27, CIFAR-10 Batch 1:  Loss =     0.7387, Accuracy = 0.5756\n",
      "Epoch 27, CIFAR-10 Batch 2:  Loss =     0.6973, Accuracy = 0.5800\n",
      "Epoch 27, CIFAR-10 Batch 3:  Loss =     0.6900, Accuracy = 0.5834\n",
      "Epoch 27, CIFAR-10 Batch 4:  Loss =     0.6854, Accuracy = 0.5880\n",
      "Epoch 27, CIFAR-10 Batch 5:  Loss =     0.6859, Accuracy = 0.5922\n",
      "Epoch 28, CIFAR-10 Batch 1:  Loss =     0.7242, Accuracy = 0.5754\n",
      "Epoch 28, CIFAR-10 Batch 2:  Loss =     0.6815, Accuracy = 0.5818\n",
      "Epoch 28, CIFAR-10 Batch 3:  Loss =     0.6759, Accuracy = 0.5846\n",
      "Epoch 28, CIFAR-10 Batch 4:  Loss =     0.6722, Accuracy = 0.5860\n",
      "Epoch 28, CIFAR-10 Batch 5:  Loss =     0.6728, Accuracy = 0.5914\n",
      "Epoch 29, CIFAR-10 Batch 1:  Loss =     0.7103, Accuracy = 0.5748\n",
      "Epoch 29, CIFAR-10 Batch 2:  Loss =     0.6656, Accuracy = 0.5828\n",
      "Epoch 29, CIFAR-10 Batch 3:  Loss =     0.6617, Accuracy = 0.5858\n",
      "Epoch 29, CIFAR-10 Batch 4:  Loss =     0.6606, Accuracy = 0.5844\n",
      "Epoch 29, CIFAR-10 Batch 5:  Loss =     0.6607, Accuracy = 0.5912\n",
      "Epoch 30, CIFAR-10 Batch 1:  Loss =     0.6965, Accuracy = 0.5746\n",
      "Epoch 30, CIFAR-10 Batch 2:  Loss =     0.6497, Accuracy = 0.5856\n",
      "Epoch 30, CIFAR-10 Batch 3:  Loss =     0.6482, Accuracy = 0.5874\n",
      "Epoch 30, CIFAR-10 Batch 4:  Loss =     0.6500, Accuracy = 0.5844\n",
      "Epoch 30, CIFAR-10 Batch 5:  Loss =     0.6491, Accuracy = 0.5894\n",
      "Epoch 31, CIFAR-10 Batch 1:  Loss =     0.6824, Accuracy = 0.5782\n",
      "Epoch 31, CIFAR-10 Batch 2:  Loss =     0.6345, Accuracy = 0.5870\n",
      "Epoch 31, CIFAR-10 Batch 3:  Loss =     0.6356, Accuracy = 0.5862\n",
      "Epoch 31, CIFAR-10 Batch 4:  Loss =     0.6400, Accuracy = 0.5826\n",
      "Epoch 31, CIFAR-10 Batch 5:  Loss =     0.6371, Accuracy = 0.5890\n",
      "Epoch 32, CIFAR-10 Batch 1:  Loss =     0.6684, Accuracy = 0.5802\n",
      "Epoch 32, CIFAR-10 Batch 2:  Loss =     0.6207, Accuracy = 0.5848\n",
      "Epoch 32, CIFAR-10 Batch 3:  Loss =     0.6238, Accuracy = 0.5886\n",
      "Epoch 32, CIFAR-10 Batch 4:  Loss =     0.6293, Accuracy = 0.5796\n",
      "Epoch 32, CIFAR-10 Batch 5:  Loss =     0.6249, Accuracy = 0.5866\n",
      "Epoch 33, CIFAR-10 Batch 1:  Loss =     0.6557, Accuracy = 0.5828\n",
      "Epoch 33, CIFAR-10 Batch 2:  Loss =     0.6082, Accuracy = 0.5864\n",
      "Epoch 33, CIFAR-10 Batch 3:  Loss =     0.6122, Accuracy = 0.5898\n",
      "Epoch 33, CIFAR-10 Batch 4:  Loss =     0.6185, Accuracy = 0.5804\n",
      "Epoch 33, CIFAR-10 Batch 5:  Loss =     0.6135, Accuracy = 0.5870\n",
      "Epoch 34, CIFAR-10 Batch 1:  Loss =     0.6446, Accuracy = 0.5846\n",
      "Epoch 34, CIFAR-10 Batch 2:  Loss =     0.5963, Accuracy = 0.5880\n",
      "Epoch 34, CIFAR-10 Batch 3:  Loss =     0.6004, Accuracy = 0.5894\n",
      "Epoch 34, CIFAR-10 Batch 4:  Loss =     0.6083, Accuracy = 0.5822\n",
      "Epoch 34, CIFAR-10 Batch 5:  Loss =     0.6037, Accuracy = 0.5838\n",
      "Epoch 35, CIFAR-10 Batch 1:  Loss =     0.6344, Accuracy = 0.5876\n",
      "Epoch 35, CIFAR-10 Batch 2:  Loss =     0.5837, Accuracy = 0.5890\n",
      "Epoch 35, CIFAR-10 Batch 3:  Loss =     0.5890, Accuracy = 0.5878\n",
      "Epoch 35, CIFAR-10 Batch 4:  Loss =     0.6003, Accuracy = 0.5806\n",
      "Epoch 35, CIFAR-10 Batch 5:  Loss =     0.5949, Accuracy = 0.5810\n",
      "Epoch 36, CIFAR-10 Batch 1:  Loss =     0.6231, Accuracy = 0.5892\n",
      "Epoch 36, CIFAR-10 Batch 2:  Loss =     0.5701, Accuracy = 0.5878\n",
      "Epoch 36, CIFAR-10 Batch 3:  Loss =     0.5799, Accuracy = 0.5850\n",
      "Epoch 36, CIFAR-10 Batch 4:  Loss =     0.5950, Accuracy = 0.5806\n",
      "Epoch 36, CIFAR-10 Batch 5:  Loss =     0.5841, Accuracy = 0.5792\n",
      "Epoch 37, CIFAR-10 Batch 1:  Loss =     0.6078, Accuracy = 0.5912\n",
      "Epoch 37, CIFAR-10 Batch 2:  Loss =     0.5589, Accuracy = 0.5896\n",
      "Epoch 37, CIFAR-10 Batch 3:  Loss =     0.5751, Accuracy = 0.5832\n",
      "Epoch 37, CIFAR-10 Batch 4:  Loss =     0.5889, Accuracy = 0.5786\n",
      "Epoch 37, CIFAR-10 Batch 5:  Loss =     0.5674, Accuracy = 0.5820\n",
      "Epoch 38, CIFAR-10 Batch 1:  Loss =     0.5911, Accuracy = 0.5972\n",
      "Epoch 38, CIFAR-10 Batch 2:  Loss =     0.5546, Accuracy = 0.5848\n",
      "Epoch 38, CIFAR-10 Batch 3:  Loss =     0.5716, Accuracy = 0.5814\n",
      "Epoch 38, CIFAR-10 Batch 4:  Loss =     0.5743, Accuracy = 0.5814\n",
      "Epoch 38, CIFAR-10 Batch 5:  Loss =     0.5483, Accuracy = 0.5894\n",
      "Epoch 39, CIFAR-10 Batch 1:  Loss =     0.5809, Accuracy = 0.5938\n",
      "Epoch 39, CIFAR-10 Batch 2:  Loss =     0.5537, Accuracy = 0.5850\n",
      "Epoch 39, CIFAR-10 Batch 3:  Loss =     0.5603, Accuracy = 0.5816\n",
      "Epoch 39, CIFAR-10 Batch 4:  Loss =     0.5543, Accuracy = 0.5884\n",
      "Epoch 39, CIFAR-10 Batch 5:  Loss =     0.5380, Accuracy = 0.5914\n",
      "Epoch 40, CIFAR-10 Batch 1:  Loss =     0.5781, Accuracy = 0.5930\n",
      "Epoch 40, CIFAR-10 Batch 2:  Loss =     0.5451, Accuracy = 0.5860\n",
      "Epoch 40, CIFAR-10 Batch 3:  Loss =     0.5420, Accuracy = 0.5866\n",
      "Epoch 40, CIFAR-10 Batch 4:  Loss =     0.5423, Accuracy = 0.5896\n",
      "Epoch 40, CIFAR-10 Batch 5:  Loss =     0.5361, Accuracy = 0.5902\n",
      "Epoch 41, CIFAR-10 Batch 1:  Loss =     0.5727, Accuracy = 0.5912\n",
      "Epoch 41, CIFAR-10 Batch 2:  Loss =     0.5288, Accuracy = 0.5884\n",
      "Epoch 41, CIFAR-10 Batch 3:  Loss =     0.5277, Accuracy = 0.5910\n",
      "Epoch 41, CIFAR-10 Batch 4:  Loss =     0.5371, Accuracy = 0.5926\n",
      "Epoch 41, CIFAR-10 Batch 5:  Loss =     0.5314, Accuracy = 0.5880\n",
      "Epoch 42, CIFAR-10 Batch 1:  Loss =     0.5632, Accuracy = 0.5896\n",
      "Epoch 42, CIFAR-10 Batch 2:  Loss =     0.5122, Accuracy = 0.5914\n",
      "Epoch 42, CIFAR-10 Batch 3:  Loss =     0.5166, Accuracy = 0.5966\n",
      "Epoch 42, CIFAR-10 Batch 4:  Loss =     0.5251, Accuracy = 0.5930\n",
      "Epoch 42, CIFAR-10 Batch 5:  Loss =     0.5192, Accuracy = 0.5906\n",
      "Epoch 43, CIFAR-10 Batch 1:  Loss =     0.5541, Accuracy = 0.5894\n",
      "Epoch 43, CIFAR-10 Batch 2:  Loss =     0.5054, Accuracy = 0.5892\n",
      "Epoch 43, CIFAR-10 Batch 3:  Loss =     0.5103, Accuracy = 0.5932\n",
      "Epoch 43, CIFAR-10 Batch 4:  Loss =     0.5087, Accuracy = 0.5946\n",
      "Epoch 43, CIFAR-10 Batch 5:  Loss =     0.5017, Accuracy = 0.5922\n",
      "Epoch 44, CIFAR-10 Batch 1:  Loss =     0.5404, Accuracy = 0.5928\n",
      "Epoch 44, CIFAR-10 Batch 2:  Loss =     0.5006, Accuracy = 0.5926\n",
      "Epoch 44, CIFAR-10 Batch 3:  Loss =     0.5142, Accuracy = 0.5870\n",
      "Epoch 44, CIFAR-10 Batch 4:  Loss =     0.5128, Accuracy = 0.5890\n",
      "Epoch 44, CIFAR-10 Batch 5:  Loss =     0.5029, Accuracy = 0.5880\n",
      "Epoch 45, CIFAR-10 Batch 1:  Loss =     0.5343, Accuracy = 0.5910\n",
      "Epoch 45, CIFAR-10 Batch 2:  Loss =     0.4891, Accuracy = 0.5942\n",
      "Epoch 45, CIFAR-10 Batch 3:  Loss =     0.4921, Accuracy = 0.5926\n",
      "Epoch 45, CIFAR-10 Batch 4:  Loss =     0.4946, Accuracy = 0.5936\n",
      "Epoch 45, CIFAR-10 Batch 5:  Loss =     0.4905, Accuracy = 0.5928\n",
      "Epoch 46, CIFAR-10 Batch 1:  Loss =     0.5279, Accuracy = 0.5878\n",
      "Epoch 46, CIFAR-10 Batch 2:  Loss =     0.4867, Accuracy = 0.5934\n",
      "Epoch 46, CIFAR-10 Batch 3:  Loss =     0.4895, Accuracy = 0.5896\n",
      "Epoch 46, CIFAR-10 Batch 4:  Loss =     0.4872, Accuracy = 0.5900\n",
      "Epoch 46, CIFAR-10 Batch 5:  Loss =     0.4793, Accuracy = 0.5958\n",
      "Epoch 47, CIFAR-10 Batch 1:  Loss =     0.5130, Accuracy = 0.5904\n",
      "Epoch 47, CIFAR-10 Batch 2:  Loss =     0.4731, Accuracy = 0.5942\n",
      "Epoch 47, CIFAR-10 Batch 3:  Loss =     0.4797, Accuracy = 0.5878\n",
      "Epoch 47, CIFAR-10 Batch 4:  Loss =     0.4807, Accuracy = 0.5910\n",
      "Epoch 47, CIFAR-10 Batch 5:  Loss =     0.4736, Accuracy = 0.5934\n",
      "Epoch 48, CIFAR-10 Batch 1:  Loss =     0.5060, Accuracy = 0.5928\n",
      "Epoch 48, CIFAR-10 Batch 2:  Loss =     0.4638, Accuracy = 0.5970\n",
      "Epoch 48, CIFAR-10 Batch 3:  Loss =     0.4714, Accuracy = 0.5902\n",
      "Epoch 48, CIFAR-10 Batch 4:  Loss =     0.4749, Accuracy = 0.5906\n",
      "Epoch 48, CIFAR-10 Batch 5:  Loss =     0.4683, Accuracy = 0.5942\n",
      "Epoch 49, CIFAR-10 Batch 1:  Loss =     0.4992, Accuracy = 0.5924\n",
      "Epoch 49, CIFAR-10 Batch 2:  Loss =     0.4569, Accuracy = 0.5978\n",
      "Epoch 49, CIFAR-10 Batch 3:  Loss =     0.4637, Accuracy = 0.5892\n",
      "Epoch 49, CIFAR-10 Batch 4:  Loss =     0.4683, Accuracy = 0.5916\n",
      "Epoch 49, CIFAR-10 Batch 5:  Loss =     0.4612, Accuracy = 0.5958\n",
      "Epoch 50, CIFAR-10 Batch 1:  Loss =     0.4911, Accuracy = 0.5930\n",
      "Epoch 50, CIFAR-10 Batch 2:  Loss =     0.4509, Accuracy = 0.5972\n",
      "Epoch 50, CIFAR-10 Batch 3:  Loss =     0.4578, Accuracy = 0.5890\n",
      "Epoch 50, CIFAR-10 Batch 4:  Loss =     0.4620, Accuracy = 0.5914\n"
     ]
    },
    {
     "name": "stdout",
     "output_type": "stream",
     "text": [
      "Epoch 50, CIFAR-10 Batch 5:  Loss =     0.4535, Accuracy = 0.5956\n",
      "Epoch 51, CIFAR-10 Batch 1:  Loss =     0.4825, Accuracy = 0.5912\n",
      "Epoch 51, CIFAR-10 Batch 2:  Loss =     0.4445, Accuracy = 0.5982\n",
      "Epoch 51, CIFAR-10 Batch 3:  Loss =     0.4527, Accuracy = 0.5890\n",
      "Epoch 51, CIFAR-10 Batch 4:  Loss =     0.4561, Accuracy = 0.5906\n",
      "Epoch 51, CIFAR-10 Batch 5:  Loss =     0.4458, Accuracy = 0.5940\n",
      "Epoch 52, CIFAR-10 Batch 1:  Loss =     0.4741, Accuracy = 0.5914\n",
      "Epoch 52, CIFAR-10 Batch 2:  Loss =     0.4381, Accuracy = 0.5972\n",
      "Epoch 52, CIFAR-10 Batch 3:  Loss =     0.4476, Accuracy = 0.5902\n",
      "Epoch 52, CIFAR-10 Batch 4:  Loss =     0.4499, Accuracy = 0.5916\n",
      "Epoch 52, CIFAR-10 Batch 5:  Loss =     0.4381, Accuracy = 0.5952\n",
      "Epoch 53, CIFAR-10 Batch 1:  Loss =     0.4660, Accuracy = 0.5922\n",
      "Epoch 53, CIFAR-10 Batch 2:  Loss =     0.4321, Accuracy = 0.5956\n",
      "Epoch 53, CIFAR-10 Batch 3:  Loss =     0.4420, Accuracy = 0.5908\n",
      "Epoch 53, CIFAR-10 Batch 4:  Loss =     0.4432, Accuracy = 0.5926\n",
      "Epoch 53, CIFAR-10 Batch 5:  Loss =     0.4301, Accuracy = 0.5978\n",
      "Epoch 54, CIFAR-10 Batch 1:  Loss =     0.4588, Accuracy = 0.5936\n",
      "Epoch 54, CIFAR-10 Batch 2:  Loss =     0.4268, Accuracy = 0.5962\n",
      "Epoch 54, CIFAR-10 Batch 3:  Loss =     0.4367, Accuracy = 0.5910\n",
      "Epoch 54, CIFAR-10 Batch 4:  Loss =     0.4363, Accuracy = 0.5928\n",
      "Epoch 54, CIFAR-10 Batch 5:  Loss =     0.4224, Accuracy = 0.5994\n",
      "Epoch 55, CIFAR-10 Batch 1:  Loss =     0.4522, Accuracy = 0.5938\n",
      "Epoch 55, CIFAR-10 Batch 2:  Loss =     0.4222, Accuracy = 0.5956\n",
      "Epoch 55, CIFAR-10 Batch 3:  Loss =     0.4314, Accuracy = 0.5908\n",
      "Epoch 55, CIFAR-10 Batch 4:  Loss =     0.4292, Accuracy = 0.5904\n",
      "Epoch 55, CIFAR-10 Batch 5:  Loss =     0.4151, Accuracy = 0.6004\n",
      "Epoch 56, CIFAR-10 Batch 1:  Loss =     0.4465, Accuracy = 0.5918\n",
      "Epoch 56, CIFAR-10 Batch 2:  Loss =     0.4178, Accuracy = 0.5946\n",
      "Epoch 56, CIFAR-10 Batch 3:  Loss =     0.4258, Accuracy = 0.5902\n",
      "Epoch 56, CIFAR-10 Batch 4:  Loss =     0.4217, Accuracy = 0.5914\n",
      "Epoch 56, CIFAR-10 Batch 5:  Loss =     0.4082, Accuracy = 0.6016\n",
      "Epoch 57, CIFAR-10 Batch 1:  Loss =     0.4416, Accuracy = 0.5930\n",
      "Epoch 57, CIFAR-10 Batch 2:  Loss =     0.4136, Accuracy = 0.5946\n",
      "Epoch 57, CIFAR-10 Batch 3:  Loss =     0.4196, Accuracy = 0.5914\n",
      "Epoch 57, CIFAR-10 Batch 4:  Loss =     0.4143, Accuracy = 0.5920\n",
      "Epoch 57, CIFAR-10 Batch 5:  Loss =     0.4023, Accuracy = 0.6010\n",
      "Epoch 58, CIFAR-10 Batch 1:  Loss =     0.4376, Accuracy = 0.5908\n",
      "Epoch 58, CIFAR-10 Batch 2:  Loss =     0.4091, Accuracy = 0.5926\n",
      "Epoch 58, CIFAR-10 Batch 3:  Loss =     0.4127, Accuracy = 0.5910\n",
      "Epoch 58, CIFAR-10 Batch 4:  Loss =     0.4074, Accuracy = 0.5944\n",
      "Epoch 58, CIFAR-10 Batch 5:  Loss =     0.3979, Accuracy = 0.6014\n",
      "Epoch 59, CIFAR-10 Batch 1:  Loss =     0.4339, Accuracy = 0.5908\n",
      "Epoch 59, CIFAR-10 Batch 2:  Loss =     0.4035, Accuracy = 0.5938\n",
      "Epoch 59, CIFAR-10 Batch 3:  Loss =     0.4049, Accuracy = 0.5936\n",
      "Epoch 59, CIFAR-10 Batch 4:  Loss =     0.4014, Accuracy = 0.5936\n",
      "Epoch 59, CIFAR-10 Batch 5:  Loss =     0.3949, Accuracy = 0.6014\n",
      "Epoch 60, CIFAR-10 Batch 1:  Loss =     0.4298, Accuracy = 0.5902\n",
      "Epoch 60, CIFAR-10 Batch 2:  Loss =     0.3962, Accuracy = 0.5952\n",
      "Epoch 60, CIFAR-10 Batch 3:  Loss =     0.3972, Accuracy = 0.5938\n",
      "Epoch 60, CIFAR-10 Batch 4:  Loss =     0.3973, Accuracy = 0.5922\n",
      "Epoch 60, CIFAR-10 Batch 5:  Loss =     0.3927, Accuracy = 0.5996\n",
      "Epoch 61, CIFAR-10 Batch 1:  Loss =     0.4238, Accuracy = 0.5918\n",
      "Epoch 61, CIFAR-10 Batch 2:  Loss =     0.3876, Accuracy = 0.5974\n",
      "Epoch 61, CIFAR-10 Batch 3:  Loss =     0.3909, Accuracy = 0.5976\n",
      "Epoch 61, CIFAR-10 Batch 4:  Loss =     0.3955, Accuracy = 0.5930\n",
      "Epoch 61, CIFAR-10 Batch 5:  Loss =     0.3900, Accuracy = 0.5994\n",
      "Epoch 62, CIFAR-10 Batch 1:  Loss =     0.4149, Accuracy = 0.5936\n",
      "Epoch 62, CIFAR-10 Batch 2:  Loss =     0.3787, Accuracy = 0.5996\n",
      "Epoch 62, CIFAR-10 Batch 3:  Loss =     0.3873, Accuracy = 0.5972\n",
      "Epoch 62, CIFAR-10 Batch 4:  Loss =     0.3944, Accuracy = 0.5924\n",
      "Epoch 62, CIFAR-10 Batch 5:  Loss =     0.3846, Accuracy = 0.6002\n",
      "Epoch 63, CIFAR-10 Batch 1:  Loss =     0.4034, Accuracy = 0.5944\n",
      "Epoch 63, CIFAR-10 Batch 2:  Loss =     0.3720, Accuracy = 0.5978\n",
      "Epoch 63, CIFAR-10 Batch 3:  Loss =     0.3872, Accuracy = 0.5972\n",
      "Epoch 63, CIFAR-10 Batch 4:  Loss =     0.3923, Accuracy = 0.5924\n",
      "Epoch 63, CIFAR-10 Batch 5:  Loss =     0.3755, Accuracy = 0.5996\n",
      "Epoch 64, CIFAR-10 Batch 1:  Loss =     0.3921, Accuracy = 0.5982\n",
      "Epoch 64, CIFAR-10 Batch 2:  Loss =     0.3693, Accuracy = 0.5966\n",
      "Epoch 64, CIFAR-10 Batch 3:  Loss =     0.3887, Accuracy = 0.5954\n",
      "Epoch 64, CIFAR-10 Batch 4:  Loss =     0.3864, Accuracy = 0.5944\n",
      "Epoch 64, CIFAR-10 Batch 5:  Loss =     0.3636, Accuracy = 0.6046\n"
     ]
    }
   ],
   "source": [
    "\"\"\"\n",
    "DON'T MODIFY ANYTHING IN THIS CELL\n",
    "\"\"\"\n",
    "save_model_path = './image_classification'\n",
    "\n",
    "print('Training...')\n",
    "with tf.Session() as sess:\n",
    "    # Initializing the variables\n",
    "    sess.run(tf.global_variables_initializer())\n",
    "    \n",
    "    # Training cycle\n",
    "    for epoch in range(epochs):\n",
    "        # Loop over all batches\n",
    "        n_batches = 5\n",
    "        for batch_i in range(1, n_batches + 1):\n",
    "            for batch_features, batch_labels in helper.load_preprocess_training_batch(batch_i, batch_size):\n",
    "                train_neural_network(sess, optimizer, keep_probability, batch_features, batch_labels)\n",
    "            print('Epoch {:>2}, CIFAR-10 Batch {}:  '.format(epoch + 1, batch_i), end='')\n",
    "            print_stats(sess, batch_features, batch_labels, cost, accuracy)\n",
    "            \n",
    "    # Save Model\n",
    "    saver = tf.train.Saver()\n",
    "    save_path = saver.save(sess, save_model_path)"
   ]
  },
  {
   "cell_type": "markdown",
   "metadata": {},
   "source": [
    "# Checkpoint\n",
    "The model has been saved to disk.\n",
    "## Test Model\n",
    "Test your model against the test dataset.  This will be your final accuracy. You should have an accuracy greater than 50%. If you don't, keep tweaking the model architecture and parameters."
   ]
  },
  {
   "cell_type": "code",
   "execution_count": 93,
   "metadata": {},
   "outputs": [
    {
     "name": "stdout",
     "output_type": "stream",
     "text": [
      "INFO:tensorflow:Restoring parameters from ./image_classification\n",
      "Testing Accuracy: 0.601441502571106\n",
      "\n"
     ]
    },
    {
     "data": {
      "image/png": "[encoded data removed]",
      "text/plain": [
       "<matplotlib.figure.Figure at 0x7f4231008a90>"
      ]
     },
     "metadata": {
      "image/png": {
       "height": 319,
       "width": 355
      }
     },
     "output_type": "display_data"
    }
   ],
   "source": [
    "\"\"\"\n",
    "DON'T MODIFY ANYTHING IN THIS CELL\n",
    "\"\"\"\n",
    "%matplotlib inline\n",
    "%config InlineBackend.figure_format = 'retina'\n",
    "\n",
    "import tensorflow as tf\n",
    "import pickle\n",
    "import helper\n",
    "import random\n",
    "\n",
    "# Set batch size if not already set\n",
    "try:\n",
    "    if batch_size:\n",
    "        pass\n",
    "except NameError:\n",
    "    batch_size = 64\n",
    "\n",
    "save_model_path = './image_classification'\n",
    "n_samples = 4\n",
    "top_n_predictions = 3\n",
    "\n",
    "def test_model():\n",
    "    \"\"\"\n",
    "    Test the saved model against the test dataset\n",
    "    \"\"\"\n",
    "\n",
    "    test_features, test_labels = pickle.load(open('preprocess_test.p', mode='rb'))\n",
    "    loaded_graph = tf.Graph()\n",
    "\n",
    "    with tf.Session(graph=loaded_graph) as sess:\n",
    "        # Load model\n",
    "        loader = tf.train.import_meta_graph(save_model_path + '.meta')\n",
    "        loader.restore(sess, save_model_path)\n",
    "\n",
    "        # Get Tensors from loaded model\n",
    "        loaded_x = loaded_graph.get_tensor_by_name('x:0')\n",
    "        loaded_y = loaded_graph.get_tensor_by_name('y:0')\n",
    "        loaded_keep_prob = loaded_graph.get_tensor_by_name('keep_prob:0')\n",
    "        loaded_logits = loaded_graph.get_tensor_by_name('logits:0')\n",
    "        loaded_acc = loaded_graph.get_tensor_by_name('accuracy:0')\n",
    "        \n",
    "        # Get accuracy in batches for memory limitations\n",
    "        test_batch_acc_total = 0\n",
    "        test_batch_count = 0\n",
    "        \n",
    "        for test_feature_batch, test_label_batch in helper.batch_features_labels(test_features, test_labels, batch_size):\n",
    "            test_batch_acc_total += sess.run(\n",
    "                loaded_acc,\n",
    "                feed_dict={loaded_x: test_feature_batch, loaded_y: test_label_batch, loaded_keep_prob: 1.0})\n",
    "            test_batch_count += 1\n",
    "\n",
    "        print('Testing Accuracy: {}\\n'.format(test_batch_acc_total/test_batch_count))\n",
    "\n",
    "        # Print Random Samples\n",
    "        random_test_features, random_test_labels = tuple(zip(*random.sample(list(zip(test_features, test_labels)), n_samples)))\n",
    "        random_test_predictions = sess.run(\n",
    "            tf.nn.top_k(tf.nn.softmax(loaded_logits), top_n_predictions),\n",
    "            feed_dict={loaded_x: random_test_features, loaded_y: random_test_labels, loaded_keep_prob: 1.0})\n",
    "        helper.display_image_predictions(random_test_features, random_test_labels, random_test_predictions)\n",
    "\n",
    "\n",
    "test_model()"
   ]
  },
  {
   "cell_type": "markdown",
   "metadata": {},
   "source": [
    "## Why 50-80% Accuracy?\n",
    "You might be wondering why you can't get an accuracy any higher. First things first, 50% isn't bad for a simple CNN.  Pure guessing would get you 10% accuracy. However, you might notice people are getting scores [well above 80%](http://rodrigob.github.io/are_we_there_yet/build/classification_datasets_results.html#43494641522d3130).  That's because we haven't taught you all there is to know about neural networks. We still need to cover a few more techniques.\n",
    "## Submitting This Project\n",
    "When submitting this project, make sure to run all the cells before saving the notebook.  Save the notebook file as \"dlnd_image_classification.ipynb\" and save it as a HTML file under \"File\" -> \"Download as\".  Include the \"helper.py\" and \"problem_unittests.py\" files in your submission."
   ]
  }
 ],
 "metadata": {
  "kernelspec": {
   "display_name": "Python 3",
   "language": "python",
   "name": "python3"
  },
  "language_info": {
   "codemirror_mode": {
    "name": "ipython",
    "version": 3
   },
   "file_extension": ".py",
   "mimetype": "text/x-python",
   "name": "python",
   "nbconvert_exporter": "python",
   "pygments_lexer": "ipython3",
   "version": "3.4.3"
  }
 },
 "nbformat": 4,
 "nbformat_minor": 1
}
